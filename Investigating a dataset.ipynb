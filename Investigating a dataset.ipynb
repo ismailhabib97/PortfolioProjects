{
 "cells": [
  {
   "cell_type": "markdown",
   "id": "a2654ab4",
   "metadata": {},
   "source": [
    "# Fertility Rate, Life Expectancy, Happiness and Suicide\n",
    "\n",
    "## Table of Contents\n",
    "<ul>\n",
    "<li><a href=\"#intro\">Introduction</a></li>\n",
    "<li><a href=\"#wrangling\">Data Wrangling</a></li>\n",
    "<li><a href=\"#eda\">Exploratory Data Analysis</a></li>\n",
    "<li><a href=\"#conclusions\">Conclusions</a></li>\n",
    "</ul>\n",
    "\n",
    "<a id='intro'></a>"
   ]
  },
  {
   "cell_type": "markdown",
   "id": "eb8524ea",
   "metadata": {},
   "source": [
    "## Introduction\n",
    "\n",
    "In this analysis, we're going to explore 4 different datasets: fertility rate, life expectancy, happiness score and suicide rate.\n",
    "The first two dataset contain the fertility rates (number of children that would be born to a woman over her lifetime) and life expectancy (the number of years a person can expect to live) for 202 countries and 195 years, respectively, over the course of 3 centuries. for the firtility rate the years starting from 1800 up to 2014 are based on actual number, and the years from 2015 to 2100 are forecast of future fertility rate. For life expectancy the years (1800-2016) are real life statistics and the years (2017-2100) are forcasted. For more accurate results we're going to do the analysis for only the last century (1921-2020). <br />\n",
    "For the third dataset, happiness score is the national average response to the question of life evaluations asking the following “Please imagine a ladder, with steps numbered from 0 at the bottom to 10 at the top. The top of the ladder represents the best possible life for you and the bottom of the ladder represents the worst possible life for you. On which step of the ladder would you say you personally feel you stand at this time?” This measure is also referred to as Cantril life ladder. Gapminder has converted this indicator's scale from 0 to 100 to easily communicate it in terms of percentage.\n",
    "The data covers 163 countries over 15 years (2005-2019). <br />\n",
    "The last dataset, suicide rate, is the number of mortality due to self-inflected injury per 100,000 standard population. 118 countries were recorded in the dataset for 67 years (1950-2016).\n",
    "\n",
    "In this analysis, we'll try to answer the following questions using statistics and visualizations:<br />\n",
    "    1. Do populations with low fertility rates seem to live longer than populations with high fertility rates? <br />\n",
    "    2. Does living a long life necessarily makes you happier? <br />\n",
    "    3. Is there any link between longevity and suicide? <br />\n",
    "    4. Is suicide generally caused by not living your best life? <br />"
   ]
  },
  {
   "cell_type": "code",
   "execution_count": 40,
   "id": "9493a7c4",
   "metadata": {},
   "outputs": [],
   "source": [
    "import pandas as pd\n",
    "import numpy as np\n",
    "import matplotlib.pyplot as plt\n",
    "%matplotlib inline\n",
    "import seaborn as sns"
   ]
  },
  {
   "cell_type": "markdown",
   "id": "53103505",
   "metadata": {},
   "source": [
    "<a id='wrangling'></a>\n",
    "## Data Wrangling\n",
    "\n",
    "### General Properties"
   ]
  },
  {
   "cell_type": "code",
   "execution_count": 41,
   "id": "9c8529f9",
   "metadata": {},
   "outputs": [],
   "source": [
    "df_frt = pd.read_csv('children_per_woman_total_fertility.csv')\n",
    "df_le = pd.read_csv('life_expectancy_years.csv')\n",
    "df_hp = pd.read_csv('hapiscore_whr.csv')\n",
    "df_su = pd.read_csv('suicide_per_100000_people.csv')"
   ]
  },
  {
   "cell_type": "markdown",
   "id": "6237a019",
   "metadata": {},
   "source": [
    "Now the data is loaded, next we're going to view the first 5 lines of each dataset."
   ]
  },
  {
   "cell_type": "code",
   "execution_count": 42,
   "id": "d45d76c2",
   "metadata": {},
   "outputs": [
    {
     "data": {
      "text/html": [
       "<div>\n",
       "<style scoped>\n",
       "    .dataframe tbody tr th:only-of-type {\n",
       "        vertical-align: middle;\n",
       "    }\n",
       "\n",
       "    .dataframe tbody tr th {\n",
       "        vertical-align: top;\n",
       "    }\n",
       "\n",
       "    .dataframe thead th {\n",
       "        text-align: right;\n",
       "    }\n",
       "</style>\n",
       "<table border=\"1\" class=\"dataframe\">\n",
       "  <thead>\n",
       "    <tr style=\"text-align: right;\">\n",
       "      <th></th>\n",
       "      <th>country</th>\n",
       "      <th>1800</th>\n",
       "      <th>1801</th>\n",
       "      <th>1802</th>\n",
       "      <th>1803</th>\n",
       "      <th>1804</th>\n",
       "      <th>1805</th>\n",
       "      <th>1806</th>\n",
       "      <th>1807</th>\n",
       "      <th>1808</th>\n",
       "      <th>...</th>\n",
       "      <th>2091</th>\n",
       "      <th>2092</th>\n",
       "      <th>2093</th>\n",
       "      <th>2094</th>\n",
       "      <th>2095</th>\n",
       "      <th>2096</th>\n",
       "      <th>2097</th>\n",
       "      <th>2098</th>\n",
       "      <th>2099</th>\n",
       "      <th>2100</th>\n",
       "    </tr>\n",
       "  </thead>\n",
       "  <tbody>\n",
       "    <tr>\n",
       "      <th>0</th>\n",
       "      <td>Aruba</td>\n",
       "      <td>5.64</td>\n",
       "      <td>5.64</td>\n",
       "      <td>5.64</td>\n",
       "      <td>5.64</td>\n",
       "      <td>5.64</td>\n",
       "      <td>5.64</td>\n",
       "      <td>5.64</td>\n",
       "      <td>5.64</td>\n",
       "      <td>5.64</td>\n",
       "      <td>...</td>\n",
       "      <td>1.82</td>\n",
       "      <td>1.82</td>\n",
       "      <td>1.82</td>\n",
       "      <td>1.82</td>\n",
       "      <td>1.82</td>\n",
       "      <td>1.82</td>\n",
       "      <td>1.82</td>\n",
       "      <td>1.82</td>\n",
       "      <td>1.83</td>\n",
       "      <td>1.83</td>\n",
       "    </tr>\n",
       "    <tr>\n",
       "      <th>1</th>\n",
       "      <td>Afghanistan</td>\n",
       "      <td>7.00</td>\n",
       "      <td>7.00</td>\n",
       "      <td>7.00</td>\n",
       "      <td>7.00</td>\n",
       "      <td>7.00</td>\n",
       "      <td>7.00</td>\n",
       "      <td>7.00</td>\n",
       "      <td>7.00</td>\n",
       "      <td>7.00</td>\n",
       "      <td>...</td>\n",
       "      <td>1.74</td>\n",
       "      <td>1.74</td>\n",
       "      <td>1.74</td>\n",
       "      <td>1.74</td>\n",
       "      <td>1.74</td>\n",
       "      <td>1.74</td>\n",
       "      <td>1.74</td>\n",
       "      <td>1.74</td>\n",
       "      <td>1.74</td>\n",
       "      <td>1.74</td>\n",
       "    </tr>\n",
       "    <tr>\n",
       "      <th>2</th>\n",
       "      <td>Angola</td>\n",
       "      <td>6.93</td>\n",
       "      <td>6.93</td>\n",
       "      <td>6.93</td>\n",
       "      <td>6.93</td>\n",
       "      <td>6.93</td>\n",
       "      <td>6.93</td>\n",
       "      <td>6.93</td>\n",
       "      <td>6.94</td>\n",
       "      <td>6.94</td>\n",
       "      <td>...</td>\n",
       "      <td>2.54</td>\n",
       "      <td>2.52</td>\n",
       "      <td>2.50</td>\n",
       "      <td>2.48</td>\n",
       "      <td>2.47</td>\n",
       "      <td>2.45</td>\n",
       "      <td>2.43</td>\n",
       "      <td>2.42</td>\n",
       "      <td>2.40</td>\n",
       "      <td>2.40</td>\n",
       "    </tr>\n",
       "    <tr>\n",
       "      <th>3</th>\n",
       "      <td>Albania</td>\n",
       "      <td>4.60</td>\n",
       "      <td>4.60</td>\n",
       "      <td>4.60</td>\n",
       "      <td>4.60</td>\n",
       "      <td>4.60</td>\n",
       "      <td>4.60</td>\n",
       "      <td>4.60</td>\n",
       "      <td>4.60</td>\n",
       "      <td>4.60</td>\n",
       "      <td>...</td>\n",
       "      <td>1.78</td>\n",
       "      <td>1.78</td>\n",
       "      <td>1.78</td>\n",
       "      <td>1.79</td>\n",
       "      <td>1.79</td>\n",
       "      <td>1.79</td>\n",
       "      <td>1.79</td>\n",
       "      <td>1.79</td>\n",
       "      <td>1.79</td>\n",
       "      <td>1.79</td>\n",
       "    </tr>\n",
       "    <tr>\n",
       "      <th>4</th>\n",
       "      <td>Netherlands Antilles</td>\n",
       "      <td>5.80</td>\n",
       "      <td>5.80</td>\n",
       "      <td>5.80</td>\n",
       "      <td>5.80</td>\n",
       "      <td>5.80</td>\n",
       "      <td>5.80</td>\n",
       "      <td>5.80</td>\n",
       "      <td>5.80</td>\n",
       "      <td>5.80</td>\n",
       "      <td>...</td>\n",
       "      <td>2.00</td>\n",
       "      <td>2.00</td>\n",
       "      <td>2.01</td>\n",
       "      <td>2.01</td>\n",
       "      <td>2.01</td>\n",
       "      <td>2.01</td>\n",
       "      <td>2.01</td>\n",
       "      <td>2.02</td>\n",
       "      <td>2.02</td>\n",
       "      <td>2.02</td>\n",
       "    </tr>\n",
       "  </tbody>\n",
       "</table>\n",
       "<p>5 rows × 302 columns</p>\n",
       "</div>"
      ],
      "text/plain": [
       "                country  1800  1801  1802  1803  1804  1805  1806  1807  1808  \\\n",
       "0                 Aruba  5.64  5.64  5.64  5.64  5.64  5.64  5.64  5.64  5.64   \n",
       "1           Afghanistan  7.00  7.00  7.00  7.00  7.00  7.00  7.00  7.00  7.00   \n",
       "2                Angola  6.93  6.93  6.93  6.93  6.93  6.93  6.93  6.94  6.94   \n",
       "3               Albania  4.60  4.60  4.60  4.60  4.60  4.60  4.60  4.60  4.60   \n",
       "4  Netherlands Antilles  5.80  5.80  5.80  5.80  5.80  5.80  5.80  5.80  5.80   \n",
       "\n",
       "   ...  2091  2092  2093  2094  2095  2096  2097  2098  2099  2100  \n",
       "0  ...  1.82  1.82  1.82  1.82  1.82  1.82  1.82  1.82  1.83  1.83  \n",
       "1  ...  1.74  1.74  1.74  1.74  1.74  1.74  1.74  1.74  1.74  1.74  \n",
       "2  ...  2.54  2.52  2.50  2.48  2.47  2.45  2.43  2.42  2.40  2.40  \n",
       "3  ...  1.78  1.78  1.78  1.79  1.79  1.79  1.79  1.79  1.79  1.79  \n",
       "4  ...  2.00  2.00  2.01  2.01  2.01  2.01  2.01  2.02  2.02  2.02  \n",
       "\n",
       "[5 rows x 302 columns]"
      ]
     },
     "execution_count": 42,
     "metadata": {},
     "output_type": "execute_result"
    }
   ],
   "source": [
    "df_frt.head()"
   ]
  },
  {
   "cell_type": "code",
   "execution_count": 43,
   "id": "a5db2610",
   "metadata": {},
   "outputs": [
    {
     "data": {
      "text/html": [
       "<div>\n",
       "<style scoped>\n",
       "    .dataframe tbody tr th:only-of-type {\n",
       "        vertical-align: middle;\n",
       "    }\n",
       "\n",
       "    .dataframe tbody tr th {\n",
       "        vertical-align: top;\n",
       "    }\n",
       "\n",
       "    .dataframe thead th {\n",
       "        text-align: right;\n",
       "    }\n",
       "</style>\n",
       "<table border=\"1\" class=\"dataframe\">\n",
       "  <thead>\n",
       "    <tr style=\"text-align: right;\">\n",
       "      <th></th>\n",
       "      <th>country</th>\n",
       "      <th>1800</th>\n",
       "      <th>1801</th>\n",
       "      <th>1802</th>\n",
       "      <th>1803</th>\n",
       "      <th>1804</th>\n",
       "      <th>1805</th>\n",
       "      <th>1806</th>\n",
       "      <th>1807</th>\n",
       "      <th>1808</th>\n",
       "      <th>...</th>\n",
       "      <th>2091</th>\n",
       "      <th>2092</th>\n",
       "      <th>2093</th>\n",
       "      <th>2094</th>\n",
       "      <th>2095</th>\n",
       "      <th>2096</th>\n",
       "      <th>2097</th>\n",
       "      <th>2098</th>\n",
       "      <th>2099</th>\n",
       "      <th>2100</th>\n",
       "    </tr>\n",
       "  </thead>\n",
       "  <tbody>\n",
       "    <tr>\n",
       "      <th>0</th>\n",
       "      <td>Afghanistan</td>\n",
       "      <td>28.2</td>\n",
       "      <td>28.2</td>\n",
       "      <td>28.2</td>\n",
       "      <td>28.2</td>\n",
       "      <td>28.2</td>\n",
       "      <td>28.2</td>\n",
       "      <td>28.1</td>\n",
       "      <td>28.1</td>\n",
       "      <td>28.1</td>\n",
       "      <td>...</td>\n",
       "      <td>75.5</td>\n",
       "      <td>75.7</td>\n",
       "      <td>75.8</td>\n",
       "      <td>76.0</td>\n",
       "      <td>76.1</td>\n",
       "      <td>76.2</td>\n",
       "      <td>76.4</td>\n",
       "      <td>76.5</td>\n",
       "      <td>76.6</td>\n",
       "      <td>76.8</td>\n",
       "    </tr>\n",
       "    <tr>\n",
       "      <th>1</th>\n",
       "      <td>Angola</td>\n",
       "      <td>27.0</td>\n",
       "      <td>27.0</td>\n",
       "      <td>27.0</td>\n",
       "      <td>27.0</td>\n",
       "      <td>27.0</td>\n",
       "      <td>27.0</td>\n",
       "      <td>27.0</td>\n",
       "      <td>27.0</td>\n",
       "      <td>27.0</td>\n",
       "      <td>...</td>\n",
       "      <td>78.8</td>\n",
       "      <td>79.0</td>\n",
       "      <td>79.1</td>\n",
       "      <td>79.2</td>\n",
       "      <td>79.3</td>\n",
       "      <td>79.5</td>\n",
       "      <td>79.6</td>\n",
       "      <td>79.7</td>\n",
       "      <td>79.9</td>\n",
       "      <td>80.0</td>\n",
       "    </tr>\n",
       "    <tr>\n",
       "      <th>2</th>\n",
       "      <td>Albania</td>\n",
       "      <td>35.4</td>\n",
       "      <td>35.4</td>\n",
       "      <td>35.4</td>\n",
       "      <td>35.4</td>\n",
       "      <td>35.4</td>\n",
       "      <td>35.4</td>\n",
       "      <td>35.4</td>\n",
       "      <td>35.4</td>\n",
       "      <td>35.4</td>\n",
       "      <td>...</td>\n",
       "      <td>87.4</td>\n",
       "      <td>87.5</td>\n",
       "      <td>87.6</td>\n",
       "      <td>87.7</td>\n",
       "      <td>87.8</td>\n",
       "      <td>87.9</td>\n",
       "      <td>88.0</td>\n",
       "      <td>88.2</td>\n",
       "      <td>88.3</td>\n",
       "      <td>88.4</td>\n",
       "    </tr>\n",
       "    <tr>\n",
       "      <th>3</th>\n",
       "      <td>Andorra</td>\n",
       "      <td>NaN</td>\n",
       "      <td>NaN</td>\n",
       "      <td>NaN</td>\n",
       "      <td>NaN</td>\n",
       "      <td>NaN</td>\n",
       "      <td>NaN</td>\n",
       "      <td>NaN</td>\n",
       "      <td>NaN</td>\n",
       "      <td>NaN</td>\n",
       "      <td>...</td>\n",
       "      <td>NaN</td>\n",
       "      <td>NaN</td>\n",
       "      <td>NaN</td>\n",
       "      <td>NaN</td>\n",
       "      <td>NaN</td>\n",
       "      <td>NaN</td>\n",
       "      <td>NaN</td>\n",
       "      <td>NaN</td>\n",
       "      <td>NaN</td>\n",
       "      <td>NaN</td>\n",
       "    </tr>\n",
       "    <tr>\n",
       "      <th>4</th>\n",
       "      <td>United Arab Emirates</td>\n",
       "      <td>30.7</td>\n",
       "      <td>30.7</td>\n",
       "      <td>30.7</td>\n",
       "      <td>30.7</td>\n",
       "      <td>30.7</td>\n",
       "      <td>30.7</td>\n",
       "      <td>30.7</td>\n",
       "      <td>30.7</td>\n",
       "      <td>30.7</td>\n",
       "      <td>...</td>\n",
       "      <td>82.4</td>\n",
       "      <td>82.5</td>\n",
       "      <td>82.6</td>\n",
       "      <td>82.7</td>\n",
       "      <td>82.8</td>\n",
       "      <td>82.9</td>\n",
       "      <td>83.0</td>\n",
       "      <td>83.1</td>\n",
       "      <td>83.2</td>\n",
       "      <td>83.3</td>\n",
       "    </tr>\n",
       "  </tbody>\n",
       "</table>\n",
       "<p>5 rows × 302 columns</p>\n",
       "</div>"
      ],
      "text/plain": [
       "                country  1800  1801  1802  1803  1804  1805  1806  1807  1808  \\\n",
       "0           Afghanistan  28.2  28.2  28.2  28.2  28.2  28.2  28.1  28.1  28.1   \n",
       "1                Angola  27.0  27.0  27.0  27.0  27.0  27.0  27.0  27.0  27.0   \n",
       "2               Albania  35.4  35.4  35.4  35.4  35.4  35.4  35.4  35.4  35.4   \n",
       "3               Andorra   NaN   NaN   NaN   NaN   NaN   NaN   NaN   NaN   NaN   \n",
       "4  United Arab Emirates  30.7  30.7  30.7  30.7  30.7  30.7  30.7  30.7  30.7   \n",
       "\n",
       "   ...  2091  2092  2093  2094  2095  2096  2097  2098  2099  2100  \n",
       "0  ...  75.5  75.7  75.8  76.0  76.1  76.2  76.4  76.5  76.6  76.8  \n",
       "1  ...  78.8  79.0  79.1  79.2  79.3  79.5  79.6  79.7  79.9  80.0  \n",
       "2  ...  87.4  87.5  87.6  87.7  87.8  87.9  88.0  88.2  88.3  88.4  \n",
       "3  ...   NaN   NaN   NaN   NaN   NaN   NaN   NaN   NaN   NaN   NaN  \n",
       "4  ...  82.4  82.5  82.6  82.7  82.8  82.9  83.0  83.1  83.2  83.3  \n",
       "\n",
       "[5 rows x 302 columns]"
      ]
     },
     "execution_count": 43,
     "metadata": {},
     "output_type": "execute_result"
    }
   ],
   "source": [
    "df_le.head()"
   ]
  },
  {
   "cell_type": "code",
   "execution_count": 44,
   "id": "b8be763b",
   "metadata": {},
   "outputs": [
    {
     "data": {
      "text/html": [
       "<div>\n",
       "<style scoped>\n",
       "    .dataframe tbody tr th:only-of-type {\n",
       "        vertical-align: middle;\n",
       "    }\n",
       "\n",
       "    .dataframe tbody tr th {\n",
       "        vertical-align: top;\n",
       "    }\n",
       "\n",
       "    .dataframe thead th {\n",
       "        text-align: right;\n",
       "    }\n",
       "</style>\n",
       "<table border=\"1\" class=\"dataframe\">\n",
       "  <thead>\n",
       "    <tr style=\"text-align: right;\">\n",
       "      <th></th>\n",
       "      <th>country</th>\n",
       "      <th>2005</th>\n",
       "      <th>2006</th>\n",
       "      <th>2007</th>\n",
       "      <th>2008</th>\n",
       "      <th>2009</th>\n",
       "      <th>2010</th>\n",
       "      <th>2011</th>\n",
       "      <th>2012</th>\n",
       "      <th>2013</th>\n",
       "      <th>2014</th>\n",
       "      <th>2015</th>\n",
       "      <th>2016</th>\n",
       "      <th>2017</th>\n",
       "      <th>2018</th>\n",
       "      <th>2019</th>\n",
       "    </tr>\n",
       "  </thead>\n",
       "  <tbody>\n",
       "    <tr>\n",
       "      <th>0</th>\n",
       "      <td>Afghanistan</td>\n",
       "      <td>NaN</td>\n",
       "      <td>NaN</td>\n",
       "      <td>NaN</td>\n",
       "      <td>37.2</td>\n",
       "      <td>44.0</td>\n",
       "      <td>47.6</td>\n",
       "      <td>38.3</td>\n",
       "      <td>37.8</td>\n",
       "      <td>35.7</td>\n",
       "      <td>31.3</td>\n",
       "      <td>39.8</td>\n",
       "      <td>42.2</td>\n",
       "      <td>26.6</td>\n",
       "      <td>26.9</td>\n",
       "      <td>25.7</td>\n",
       "    </tr>\n",
       "    <tr>\n",
       "      <th>1</th>\n",
       "      <td>Angola</td>\n",
       "      <td>NaN</td>\n",
       "      <td>NaN</td>\n",
       "      <td>NaN</td>\n",
       "      <td>NaN</td>\n",
       "      <td>NaN</td>\n",
       "      <td>NaN</td>\n",
       "      <td>55.9</td>\n",
       "      <td>43.6</td>\n",
       "      <td>39.4</td>\n",
       "      <td>37.9</td>\n",
       "      <td>NaN</td>\n",
       "      <td>NaN</td>\n",
       "      <td>NaN</td>\n",
       "      <td>NaN</td>\n",
       "      <td>NaN</td>\n",
       "    </tr>\n",
       "    <tr>\n",
       "      <th>2</th>\n",
       "      <td>Albania</td>\n",
       "      <td>NaN</td>\n",
       "      <td>NaN</td>\n",
       "      <td>46.3</td>\n",
       "      <td>NaN</td>\n",
       "      <td>54.9</td>\n",
       "      <td>52.7</td>\n",
       "      <td>58.7</td>\n",
       "      <td>55.1</td>\n",
       "      <td>45.5</td>\n",
       "      <td>48.1</td>\n",
       "      <td>46.1</td>\n",
       "      <td>45.1</td>\n",
       "      <td>46.4</td>\n",
       "      <td>50.0</td>\n",
       "      <td>48.8</td>\n",
       "    </tr>\n",
       "    <tr>\n",
       "      <th>3</th>\n",
       "      <td>United Arab Emirates</td>\n",
       "      <td>NaN</td>\n",
       "      <td>67.3</td>\n",
       "      <td>NaN</td>\n",
       "      <td>NaN</td>\n",
       "      <td>68.7</td>\n",
       "      <td>71.0</td>\n",
       "      <td>71.2</td>\n",
       "      <td>72.2</td>\n",
       "      <td>66.2</td>\n",
       "      <td>65.4</td>\n",
       "      <td>65.7</td>\n",
       "      <td>68.3</td>\n",
       "      <td>70.4</td>\n",
       "      <td>66.0</td>\n",
       "      <td>67.9</td>\n",
       "    </tr>\n",
       "    <tr>\n",
       "      <th>4</th>\n",
       "      <td>Argentina</td>\n",
       "      <td>NaN</td>\n",
       "      <td>63.1</td>\n",
       "      <td>60.7</td>\n",
       "      <td>59.6</td>\n",
       "      <td>64.2</td>\n",
       "      <td>64.4</td>\n",
       "      <td>67.8</td>\n",
       "      <td>64.7</td>\n",
       "      <td>65.8</td>\n",
       "      <td>66.7</td>\n",
       "      <td>67.0</td>\n",
       "      <td>64.3</td>\n",
       "      <td>60.4</td>\n",
       "      <td>57.9</td>\n",
       "      <td>59.7</td>\n",
       "    </tr>\n",
       "  </tbody>\n",
       "</table>\n",
       "</div>"
      ],
      "text/plain": [
       "                country  2005  2006  2007  2008  2009  2010  2011  2012  2013  \\\n",
       "0           Afghanistan   NaN   NaN   NaN  37.2  44.0  47.6  38.3  37.8  35.7   \n",
       "1                Angola   NaN   NaN   NaN   NaN   NaN   NaN  55.9  43.6  39.4   \n",
       "2               Albania   NaN   NaN  46.3   NaN  54.9  52.7  58.7  55.1  45.5   \n",
       "3  United Arab Emirates   NaN  67.3   NaN   NaN  68.7  71.0  71.2  72.2  66.2   \n",
       "4             Argentina   NaN  63.1  60.7  59.6  64.2  64.4  67.8  64.7  65.8   \n",
       "\n",
       "   2014  2015  2016  2017  2018  2019  \n",
       "0  31.3  39.8  42.2  26.6  26.9  25.7  \n",
       "1  37.9   NaN   NaN   NaN   NaN   NaN  \n",
       "2  48.1  46.1  45.1  46.4  50.0  48.8  \n",
       "3  65.4  65.7  68.3  70.4  66.0  67.9  \n",
       "4  66.7  67.0  64.3  60.4  57.9  59.7  "
      ]
     },
     "execution_count": 44,
     "metadata": {},
     "output_type": "execute_result"
    }
   ],
   "source": [
    "df_hp.head()"
   ]
  },
  {
   "cell_type": "code",
   "execution_count": 45,
   "id": "c76e684c",
   "metadata": {},
   "outputs": [
    {
     "data": {
      "text/html": [
       "<div>\n",
       "<style scoped>\n",
       "    .dataframe tbody tr th:only-of-type {\n",
       "        vertical-align: middle;\n",
       "    }\n",
       "\n",
       "    .dataframe tbody tr th {\n",
       "        vertical-align: top;\n",
       "    }\n",
       "\n",
       "    .dataframe thead th {\n",
       "        text-align: right;\n",
       "    }\n",
       "</style>\n",
       "<table border=\"1\" class=\"dataframe\">\n",
       "  <thead>\n",
       "    <tr style=\"text-align: right;\">\n",
       "      <th></th>\n",
       "      <th>country</th>\n",
       "      <th>1950</th>\n",
       "      <th>1951</th>\n",
       "      <th>1952</th>\n",
       "      <th>1953</th>\n",
       "      <th>1954</th>\n",
       "      <th>1955</th>\n",
       "      <th>1956</th>\n",
       "      <th>1957</th>\n",
       "      <th>1958</th>\n",
       "      <th>...</th>\n",
       "      <th>2007</th>\n",
       "      <th>2008</th>\n",
       "      <th>2009</th>\n",
       "      <th>2010</th>\n",
       "      <th>2011</th>\n",
       "      <th>2012</th>\n",
       "      <th>2013</th>\n",
       "      <th>2014</th>\n",
       "      <th>2015</th>\n",
       "      <th>2016</th>\n",
       "    </tr>\n",
       "  </thead>\n",
       "  <tbody>\n",
       "    <tr>\n",
       "      <th>0</th>\n",
       "      <td>Albania</td>\n",
       "      <td>NaN</td>\n",
       "      <td>NaN</td>\n",
       "      <td>NaN</td>\n",
       "      <td>NaN</td>\n",
       "      <td>NaN</td>\n",
       "      <td>NaN</td>\n",
       "      <td>NaN</td>\n",
       "      <td>NaN</td>\n",
       "      <td>NaN</td>\n",
       "      <td>...</td>\n",
       "      <td>4.06</td>\n",
       "      <td>5.34</td>\n",
       "      <td>NaN</td>\n",
       "      <td>3.08</td>\n",
       "      <td>NaN</td>\n",
       "      <td>NaN</td>\n",
       "      <td>NaN</td>\n",
       "      <td>NaN</td>\n",
       "      <td>NaN</td>\n",
       "      <td>NaN</td>\n",
       "    </tr>\n",
       "    <tr>\n",
       "      <th>1</th>\n",
       "      <td>Argentina</td>\n",
       "      <td>NaN</td>\n",
       "      <td>NaN</td>\n",
       "      <td>NaN</td>\n",
       "      <td>NaN</td>\n",
       "      <td>NaN</td>\n",
       "      <td>NaN</td>\n",
       "      <td>NaN</td>\n",
       "      <td>NaN</td>\n",
       "      <td>NaN</td>\n",
       "      <td>...</td>\n",
       "      <td>NaN</td>\n",
       "      <td>NaN</td>\n",
       "      <td>NaN</td>\n",
       "      <td>NaN</td>\n",
       "      <td>NaN</td>\n",
       "      <td>NaN</td>\n",
       "      <td>NaN</td>\n",
       "      <td>NaN</td>\n",
       "      <td>NaN</td>\n",
       "      <td>NaN</td>\n",
       "    </tr>\n",
       "    <tr>\n",
       "      <th>2</th>\n",
       "      <td>Armenia</td>\n",
       "      <td>NaN</td>\n",
       "      <td>NaN</td>\n",
       "      <td>NaN</td>\n",
       "      <td>NaN</td>\n",
       "      <td>NaN</td>\n",
       "      <td>NaN</td>\n",
       "      <td>NaN</td>\n",
       "      <td>NaN</td>\n",
       "      <td>NaN</td>\n",
       "      <td>...</td>\n",
       "      <td>NaN</td>\n",
       "      <td>1.74</td>\n",
       "      <td>NaN</td>\n",
       "      <td>NaN</td>\n",
       "      <td>NaN</td>\n",
       "      <td>2.39</td>\n",
       "      <td>1.92</td>\n",
       "      <td>1.54</td>\n",
       "      <td>2.02</td>\n",
       "      <td>1.85</td>\n",
       "    </tr>\n",
       "    <tr>\n",
       "      <th>3</th>\n",
       "      <td>Antigua and Barbuda</td>\n",
       "      <td>NaN</td>\n",
       "      <td>NaN</td>\n",
       "      <td>NaN</td>\n",
       "      <td>NaN</td>\n",
       "      <td>NaN</td>\n",
       "      <td>NaN</td>\n",
       "      <td>NaN</td>\n",
       "      <td>NaN</td>\n",
       "      <td>NaN</td>\n",
       "      <td>...</td>\n",
       "      <td>NaN</td>\n",
       "      <td>NaN</td>\n",
       "      <td>NaN</td>\n",
       "      <td>NaN</td>\n",
       "      <td>NaN</td>\n",
       "      <td>NaN</td>\n",
       "      <td>NaN</td>\n",
       "      <td>NaN</td>\n",
       "      <td>NaN</td>\n",
       "      <td>NaN</td>\n",
       "    </tr>\n",
       "    <tr>\n",
       "      <th>4</th>\n",
       "      <td>Australia</td>\n",
       "      <td>9.11</td>\n",
       "      <td>9.41</td>\n",
       "      <td>10.5</td>\n",
       "      <td>10.8</td>\n",
       "      <td>10.7</td>\n",
       "      <td>10.3</td>\n",
       "      <td>10.8</td>\n",
       "      <td>12.2</td>\n",
       "      <td>12.5</td>\n",
       "      <td>...</td>\n",
       "      <td>9.71</td>\n",
       "      <td>9.96</td>\n",
       "      <td>9.62</td>\n",
       "      <td>9.82</td>\n",
       "      <td>9.73</td>\n",
       "      <td>10.30</td>\n",
       "      <td>10.20</td>\n",
       "      <td>11.20</td>\n",
       "      <td>11.60</td>\n",
       "      <td>NaN</td>\n",
       "    </tr>\n",
       "  </tbody>\n",
       "</table>\n",
       "<p>5 rows × 68 columns</p>\n",
       "</div>"
      ],
      "text/plain": [
       "               country  1950  1951  1952  1953  1954  1955  1956  1957  1958  \\\n",
       "0              Albania   NaN   NaN   NaN   NaN   NaN   NaN   NaN   NaN   NaN   \n",
       "1            Argentina   NaN   NaN   NaN   NaN   NaN   NaN   NaN   NaN   NaN   \n",
       "2              Armenia   NaN   NaN   NaN   NaN   NaN   NaN   NaN   NaN   NaN   \n",
       "3  Antigua and Barbuda   NaN   NaN   NaN   NaN   NaN   NaN   NaN   NaN   NaN   \n",
       "4            Australia  9.11  9.41  10.5  10.8  10.7  10.3  10.8  12.2  12.5   \n",
       "\n",
       "   ...  2007  2008  2009  2010  2011   2012   2013   2014   2015  2016  \n",
       "0  ...  4.06  5.34   NaN  3.08   NaN    NaN    NaN    NaN    NaN   NaN  \n",
       "1  ...   NaN   NaN   NaN   NaN   NaN    NaN    NaN    NaN    NaN   NaN  \n",
       "2  ...   NaN  1.74   NaN   NaN   NaN   2.39   1.92   1.54   2.02  1.85  \n",
       "3  ...   NaN   NaN   NaN   NaN   NaN    NaN    NaN    NaN    NaN   NaN  \n",
       "4  ...  9.71  9.96  9.62  9.82  9.73  10.30  10.20  11.20  11.60   NaN  \n",
       "\n",
       "[5 rows x 68 columns]"
      ]
     },
     "execution_count": 45,
     "metadata": {},
     "output_type": "execute_result"
    }
   ],
   "source": [
    "df_su.head()"
   ]
  },
  {
   "cell_type": "markdown",
   "id": "c54db392",
   "metadata": {},
   "source": [
    "Looks like there're many missing values, we'll need to fix that.\n",
    "let's check the data types and see how many missing values are there in each dataset."
   ]
  },
  {
   "cell_type": "code",
   "execution_count": 46,
   "id": "a3206834",
   "metadata": {},
   "outputs": [
    {
     "data": {
      "text/plain": [
       "country     object\n",
       "1800       float64\n",
       "1801       float64\n",
       "1802       float64\n",
       "1803       float64\n",
       "            ...   \n",
       "2096       float64\n",
       "2097       float64\n",
       "2098       float64\n",
       "2099       float64\n",
       "2100       float64\n",
       "Length: 302, dtype: object"
      ]
     },
     "execution_count": 46,
     "metadata": {},
     "output_type": "execute_result"
    }
   ],
   "source": [
    "df_frt.dtypes"
   ]
  },
  {
   "cell_type": "code",
   "execution_count": 47,
   "id": "e752a2d6",
   "metadata": {},
   "outputs": [
    {
     "data": {
      "text/plain": [
       "country     object\n",
       "1800       float64\n",
       "1801       float64\n",
       "1802       float64\n",
       "1803       float64\n",
       "            ...   \n",
       "2096       float64\n",
       "2097       float64\n",
       "2098       float64\n",
       "2099       float64\n",
       "2100       float64\n",
       "Length: 302, dtype: object"
      ]
     },
     "execution_count": 47,
     "metadata": {},
     "output_type": "execute_result"
    }
   ],
   "source": [
    "df_le.dtypes"
   ]
  },
  {
   "cell_type": "code",
   "execution_count": 48,
   "id": "c5d1076d",
   "metadata": {},
   "outputs": [
    {
     "data": {
      "text/plain": [
       "country     object\n",
       "2005       float64\n",
       "2006       float64\n",
       "2007       float64\n",
       "2008       float64\n",
       "2009       float64\n",
       "2010       float64\n",
       "2011       float64\n",
       "2012       float64\n",
       "2013       float64\n",
       "2014       float64\n",
       "2015       float64\n",
       "2016       float64\n",
       "2017       float64\n",
       "2018       float64\n",
       "2019       float64\n",
       "dtype: object"
      ]
     },
     "execution_count": 48,
     "metadata": {},
     "output_type": "execute_result"
    }
   ],
   "source": [
    "df_hp.dtypes"
   ]
  },
  {
   "cell_type": "code",
   "execution_count": 49,
   "id": "30bc932a",
   "metadata": {},
   "outputs": [
    {
     "data": {
      "text/plain": [
       "country     object\n",
       "1950       float64\n",
       "1951       float64\n",
       "1952       float64\n",
       "1953       float64\n",
       "            ...   \n",
       "2012       float64\n",
       "2013       float64\n",
       "2014       float64\n",
       "2015       float64\n",
       "2016       float64\n",
       "Length: 68, dtype: object"
      ]
     },
     "execution_count": 49,
     "metadata": {},
     "output_type": "execute_result"
    }
   ],
   "source": [
    "df_su.dtypes"
   ]
  },
  {
   "cell_type": "markdown",
   "id": "7366f0e5",
   "metadata": {},
   "source": [
    "Great, looks like the all data types are floating numbers.\n",
    "Now let's count number of missing values for each dataset."
   ]
  },
  {
   "cell_type": "code",
   "execution_count": 50,
   "id": "d33cb26a",
   "metadata": {},
   "outputs": [
    {
     "data": {
      "text/plain": [
       "87"
      ]
     },
     "execution_count": 50,
     "metadata": {},
     "output_type": "execute_result"
    }
   ],
   "source": [
    "df_frt.isna().sum().sum()"
   ]
  },
  {
   "cell_type": "code",
   "execution_count": 51,
   "id": "087c51c1",
   "metadata": {},
   "outputs": [
    {
     "data": {
      "text/plain": [
       "2079"
      ]
     },
     "execution_count": 51,
     "metadata": {},
     "output_type": "execute_result"
    }
   ],
   "source": [
    "df_le.isna().sum().sum()"
   ]
  },
  {
   "cell_type": "code",
   "execution_count": 52,
   "id": "7751e701",
   "metadata": {},
   "outputs": [
    {
     "data": {
      "text/plain": [
       "608"
      ]
     },
     "execution_count": 52,
     "metadata": {},
     "output_type": "execute_result"
    }
   ],
   "source": [
    "df_hp.isna().sum().sum()"
   ]
  },
  {
   "cell_type": "code",
   "execution_count": 53,
   "id": "02d2c7cd",
   "metadata": {},
   "outputs": [
    {
     "data": {
      "text/plain": [
       "4713"
      ]
     },
     "execution_count": 53,
     "metadata": {},
     "output_type": "execute_result"
    }
   ],
   "source": [
    "df_su.isna().sum().sum()"
   ]
  },
  {
   "cell_type": "markdown",
   "id": "946b3784",
   "metadata": {},
   "source": [
    "Now before we start filling the missing values, let's first trim the dataset so than we only have the data we need for analysis, that will save us time cleaning data we won't use."
   ]
  },
  {
   "cell_type": "markdown",
   "id": "e323d525",
   "metadata": {},
   "source": [
    "### Trimming and Filling Missing Values"
   ]
  },
  {
   "cell_type": "markdown",
   "id": "7e7c8349",
   "metadata": {},
   "source": [
    "Let's extract the years (1921-2020) of the first two datasets.\n",
    "First we'll split the data into 2 dataframes, country list and the years we're interested in, then well join them together"
   ]
  },
  {
   "cell_type": "code",
   "execution_count": 54,
   "id": "d420c00e",
   "metadata": {},
   "outputs": [],
   "source": [
    "frt_countries = df_frt.loc[:,['country']]\n",
    "frt_years = df_frt.loc[:, '1921':'2020']\n",
    "df_frt = frt_countries.join(frt_years)"
   ]
  },
  {
   "cell_type": "markdown",
   "id": "5c180ee2",
   "metadata": {},
   "source": [
    "let's do the same for the second dataset."
   ]
  },
  {
   "cell_type": "code",
   "execution_count": 55,
   "id": "176f80df",
   "metadata": {},
   "outputs": [],
   "source": [
    "le_countries = df_le.loc[:,['country']]\n",
    "le_years = df_le.loc[:, '1921':'2020']\n",
    "df_le = le_countries.join(le_years)"
   ]
  },
  {
   "cell_type": "markdown",
   "id": "a85924ea",
   "metadata": {},
   "source": [
    "Now for the third and forth datasets, since the number of missing values is relatively high compared to the size of the datasets, we're going to drop the data of the countries that more than half of its data is missing."
   ]
  },
  {
   "cell_type": "code",
   "execution_count": 56,
   "id": "10cbc897",
   "metadata": {},
   "outputs": [],
   "source": [
    "df_hp.drop(df_hp[df_hp.isnull().sum(axis=1) >= 8].index , inplace=True)\n",
    "df_su.drop(df_su[df_su.isnull().sum(axis=1) >= 34].index , inplace=True)"
   ]
  },
  {
   "cell_type": "markdown",
   "id": "c80b161c",
   "metadata": {},
   "source": [
    "let's now check the missing values for the datasets after trimming."
   ]
  },
  {
   "cell_type": "code",
   "execution_count": 57,
   "id": "92d80b04",
   "metadata": {},
   "outputs": [
    {
     "name": "stdout",
     "output_type": "stream",
     "text": [
      "7\n",
      "270\n",
      "329\n",
      "502\n"
     ]
    }
   ],
   "source": [
    "print(df_frt.isna().sum().sum())\n",
    "print(df_le.isna().sum().sum())\n",
    "print(df_hp.isna().sum().sum())\n",
    "print(df_su.isna().sum().sum())"
   ]
  },
  {
   "cell_type": "markdown",
   "id": "8b3478b4",
   "metadata": {},
   "source": [
    "Great, but we still need trim the data a little bit more.\n",
    "Since we're going to adress the questions using multiple datasets, we're going to create new datasets specified for each question we have, and based on that we'll keep the intersection between each dataset that we'll analyse together(e.g. deleting the years and countries in a dataset that don't exist in the other one and vise versa.)"
   ]
  },
  {
   "cell_type": "markdown",
   "id": "bcfa2e99",
   "metadata": {},
   "source": [
    "To accomplish this we'll create a function than takes as input two dataframes and returns a list of countries that exist in both of the dataset, so that we can use this list to trim the excessive data in both of them."
   ]
  },
  {
   "cell_type": "code",
   "execution_count": 58,
   "id": "8b0450af",
   "metadata": {},
   "outputs": [],
   "source": [
    "def countries_merged(df1, df2):\n",
    "    country_list = []\n",
    "    for country in list(df1.country):\n",
    "        if country in list(df2.country):\n",
    "            country_list.append(country)\n",
    "    return country_list"
   ]
  },
  {
   "cell_type": "markdown",
   "id": "f462af00",
   "metadata": {},
   "source": [
    "Now let's extract the datasets for the first question"
   ]
  },
  {
   "cell_type": "code",
   "execution_count": 59,
   "id": "e96685b2",
   "metadata": {},
   "outputs": [],
   "source": [
    "df_frt_1 = df_frt[df_frt.country.isin(countries_merged(df_frt, df_le))]\n",
    "df_le_1 = df_le[df_le.country.isin(countries_merged(df_frt, df_le))]"
   ]
  },
  {
   "cell_type": "markdown",
   "id": "053a6600",
   "metadata": {},
   "source": [
    "Note that for the rest of the question, some years only exist in one dataset and not the other, so we're going to drop those and keep only the intersection between the years. "
   ]
  },
  {
   "cell_type": "code",
   "execution_count": 60,
   "id": "08cdb501",
   "metadata": {},
   "outputs": [],
   "source": [
    "df_le_t1 = df_le.drop(df_le.loc[:, '1921':'2004'], axis=1)\n",
    "df_le_t1 = df_le_t1.drop(df_le.loc[:, '2020':], axis=1)\n",
    "df_le_2 = df_le_t1[df_le_t1.country.isin(countries_merged(df_le_t1, df_hp))]\n",
    "df_hp_2 = df_hp[df_hp.country.isin(countries_merged(df_le_t1, df_hp))]"
   ]
  },
  {
   "cell_type": "code",
   "execution_count": 61,
   "id": "2f84bb2f",
   "metadata": {},
   "outputs": [],
   "source": [
    "df_le_t2 = df_le.drop(df_le.loc[:, '1921':'1949'], axis=1)\n",
    "df_le_t2 = df_le_t2.drop(df_le.loc[:, '2017':], axis=1)\n",
    "df_le_3 = df_le_t2[df_le_t2.country.isin(countries_merged(df_le_t2, df_su))]\n",
    "df_su_3 = df_su[df_su.country.isin(countries_merged(df_le_t2, df_su))]"
   ]
  },
  {
   "cell_type": "code",
   "execution_count": 62,
   "id": "43179d08",
   "metadata": {},
   "outputs": [],
   "source": [
    "df_hp = df_hp.drop(df_hp.loc[:, '2017':], axis=1)\n",
    "df_su = df_su.drop(df_le.loc[:, '1950':'2004'], axis=1)\n",
    "df_su.drop(df_su[df_su.isnull().sum(axis=1) >= 6].index , inplace=True)\n",
    "df_hp_4 = df_hp[df_hp.country.isin(countries_merged(df_hp, df_su))]\n",
    "df_su_4 = df_su[df_su.country.isin(countries_merged(df_hp, df_su))]"
   ]
  },
  {
   "cell_type": "markdown",
   "id": "d25317b5",
   "metadata": {},
   "source": [
    "Amazing, now we have 8 datasets, 2 for each question, and they're all trimmed and fresh."
   ]
  },
  {
   "cell_type": "markdown",
   "id": "b9ad3f26",
   "metadata": {},
   "source": [
    "Now let's chech again for the missing values, but this time after trimming the data.\n",
    "We have 8 datasets to check."
   ]
  },
  {
   "cell_type": "code",
   "execution_count": 63,
   "id": "50057665",
   "metadata": {},
   "outputs": [
    {
     "name": "stdout",
     "output_type": "stream",
     "text": [
      "0\n",
      "0\n",
      "0\n",
      "329\n",
      "0\n",
      "446\n",
      "67\n",
      "38\n"
     ]
    }
   ],
   "source": [
    "print(df_frt_1.isna().sum().sum())\n",
    "print(df_le_1.isna().sum().sum())\n",
    "print(df_le_2.isna().sum().sum())\n",
    "print(df_hp_2.isna().sum().sum())\n",
    "print(df_le_3.isna().sum().sum())\n",
    "print(df_su_3.isna().sum().sum())\n",
    "print(df_hp_4.isna().sum().sum())\n",
    "print(df_su_4.isna().sum().sum())"
   ]
  },
  {
   "cell_type": "markdown",
   "id": "3af24e95",
   "metadata": {},
   "source": [
    "Fantastic, only four datasets have missing values.\n",
    "Now let's start filling those."
   ]
  },
  {
   "cell_type": "markdown",
   "id": "aa109578",
   "metadata": {},
   "source": [
    "We're going to fill missing values with the mean of each row (country).\n",
    "To do this we need first to set the country column to the index to be able to calculate the mean for each row, then reset the index back to row numbers.\n",
    "We'll repeat the same process for all four datasets."
   ]
  },
  {
   "cell_type": "code",
   "execution_count": 64,
   "id": "c7bf4aeb",
   "metadata": {},
   "outputs": [],
   "source": [
    "df_hp_2 = df_hp_2.set_index(['country'])\n",
    "df_hp_2 = df_hp_2.apply(lambda row: row.fillna(row.mean()), axis=1)\n",
    "df_hp_2 = df_hp_2.reset_index(level=0).round(1)"
   ]
  },
  {
   "cell_type": "code",
   "execution_count": 65,
   "id": "ebd819b3",
   "metadata": {},
   "outputs": [],
   "source": [
    "df_su_3 = df_su_3.set_index(['country'])\n",
    "df_su_3 = df_su_3.apply(lambda row: row.fillna(row.mean()), axis=1)\n",
    "df_su_3 = df_su_3.reset_index(level=0).round(1)"
   ]
  },
  {
   "cell_type": "code",
   "execution_count": 66,
   "id": "2f4a4e43",
   "metadata": {},
   "outputs": [],
   "source": [
    "df_hp_4 = df_hp_4.set_index(['country'])\n",
    "df_hp_4 = df_hp_4.apply(lambda row: row.fillna(row.mean()), axis=1)\n",
    "df_hp_4 = df_hp_4.reset_index(level=0).round(1)"
   ]
  },
  {
   "cell_type": "code",
   "execution_count": 67,
   "id": "a57b4a98",
   "metadata": {},
   "outputs": [],
   "source": [
    "df_su_4 = df_su_4.set_index(['country'])\n",
    "df_su_4 = df_su_4.apply(lambda row: row.fillna(row.mean()), axis=1)\n",
    "df_su_4 = df_su_4.reset_index(level=0).round(1)"
   ]
  },
  {
   "cell_type": "markdown",
   "id": "88d57aa0",
   "metadata": {},
   "source": [
    "Now let's make a final check to ensure no missing values exist."
   ]
  },
  {
   "cell_type": "code",
   "execution_count": 68,
   "id": "9574466f",
   "metadata": {},
   "outputs": [
    {
     "name": "stdout",
     "output_type": "stream",
     "text": [
      "0\n",
      "0\n",
      "0\n",
      "0\n",
      "0\n",
      "0\n",
      "0\n",
      "0\n"
     ]
    }
   ],
   "source": [
    "print(df_frt_1.isna().sum().sum())\n",
    "print(df_le_1.isna().sum().sum())\n",
    "print(df_le_2.isna().sum().sum())\n",
    "print(df_hp_2.isna().sum().sum())\n",
    "print(df_le_3.isna().sum().sum())\n",
    "print(df_su_3.isna().sum().sum())\n",
    "print(df_hp_4.isna().sum().sum())\n",
    "print(df_su_4.isna().sum().sum())"
   ]
  },
  {
   "cell_type": "markdown",
   "id": "76002131",
   "metadata": {},
   "source": [
    "Perfect!"
   ]
  },
  {
   "cell_type": "markdown",
   "id": "cd64849b",
   "metadata": {},
   "source": [
    "Let's check to see if the shape of the data of each question is equal."
   ]
  },
  {
   "cell_type": "code",
   "execution_count": 69,
   "id": "0f16a1fb",
   "metadata": {},
   "outputs": [
    {
     "name": "stdout",
     "output_type": "stream",
     "text": [
      "True\n",
      "True\n",
      "True\n",
      "True\n"
     ]
    }
   ],
   "source": [
    "print(df_frt_1.shape == df_le_1.shape)\n",
    "print(df_le_2.shape == df_hp_2.shape)\n",
    "print(df_le_3.shape == df_su_3.shape)\n",
    "print(df_hp_4.shape == df_su_4.shape)"
   ]
  },
  {
   "cell_type": "markdown",
   "id": "3df9ce8f",
   "metadata": {},
   "source": [
    "Nice, let's move on to exploration."
   ]
  },
  {
   "cell_type": "markdown",
   "id": "f96243ad",
   "metadata": {},
   "source": [
    "<a id='eda'></a>\n",
    "## Exploratory Data Analysis\n",
    "\n",
    "### Do populations with low fertility rates seem to live longer than populations with high fertility rates?"
   ]
  },
  {
   "cell_type": "markdown",
   "id": "40b24c80",
   "metadata": {},
   "source": [
    "First, let's see the trend of fertility rates over the past century."
   ]
  },
  {
   "cell_type": "code",
   "execution_count": 70,
   "id": "f4fc645c",
   "metadata": {},
   "outputs": [],
   "source": [
    "sns.set_theme()"
   ]
  },
  {
   "cell_type": "code",
   "execution_count": 71,
   "id": "c7b59188",
   "metadata": {},
   "outputs": [],
   "source": [
    "df_frt_1 = df_frt_1.set_index(['country'])"
   ]
  },
  {
   "cell_type": "code",
   "execution_count": 72,
   "id": "0fde76fe",
   "metadata": {
    "scrolled": false
   },
   "outputs": [
    {
     "data": {
      "image/png": "[encoded data removed]",
      "text/plain": [
       "<Figure size 432x288 with 1 Axes>"
      ]
     },
     "metadata": {},
     "output_type": "display_data"
    }
   ],
   "source": [
    "fig_1 = sns.lineplot(data=df_frt_1.mean());\n",
    "for ind, label in enumerate(fig_1.get_xticklabels()):\n",
    "    if ind % 10 == 0:  # every 10th label is kept\n",
    "        label.set_visible(True)\n",
    "    else:\n",
    "        label.set_visible(False)\n",
    "fig_1.set(xlabel='Year', ylabel='Fertility Rate')\n",
    "plt.title('Fertility Trend');"
   ]
  },
  {
   "cell_type": "markdown",
   "id": "3528b798",
   "metadata": {},
   "source": [
    "The graph indicates that the fertility rates are decreasing deastically over the past century."
   ]
  },
  {
   "cell_type": "code",
   "execution_count": 73,
   "id": "6bbac4e8",
   "metadata": {},
   "outputs": [
    {
     "data": {
      "text/html": [
       "<div>\n",
       "<style scoped>\n",
       "    .dataframe tbody tr th:only-of-type {\n",
       "        vertical-align: middle;\n",
       "    }\n",
       "\n",
       "    .dataframe tbody tr th {\n",
       "        vertical-align: top;\n",
       "    }\n",
       "\n",
       "    .dataframe thead th {\n",
       "        text-align: right;\n",
       "    }\n",
       "</style>\n",
       "<table border=\"1\" class=\"dataframe\">\n",
       "  <thead>\n",
       "    <tr style=\"text-align: right;\">\n",
       "      <th></th>\n",
       "      <th>1921</th>\n",
       "      <th>1922</th>\n",
       "      <th>1923</th>\n",
       "      <th>1924</th>\n",
       "      <th>1925</th>\n",
       "      <th>1926</th>\n",
       "      <th>1927</th>\n",
       "      <th>1928</th>\n",
       "      <th>1929</th>\n",
       "      <th>1930</th>\n",
       "      <th>...</th>\n",
       "      <th>2011</th>\n",
       "      <th>2012</th>\n",
       "      <th>2013</th>\n",
       "      <th>2014</th>\n",
       "      <th>2015</th>\n",
       "      <th>2016</th>\n",
       "      <th>2017</th>\n",
       "      <th>2018</th>\n",
       "      <th>2019</th>\n",
       "      <th>2020</th>\n",
       "    </tr>\n",
       "  </thead>\n",
       "  <tbody>\n",
       "    <tr>\n",
       "      <th>count</th>\n",
       "      <td>186.000000</td>\n",
       "      <td>186.000000</td>\n",
       "      <td>186.000000</td>\n",
       "      <td>186.000000</td>\n",
       "      <td>186.000000</td>\n",
       "      <td>186.000000</td>\n",
       "      <td>186.000000</td>\n",
       "      <td>186.000000</td>\n",
       "      <td>186.000000</td>\n",
       "      <td>186.000000</td>\n",
       "      <td>...</td>\n",
       "      <td>186.000000</td>\n",
       "      <td>186.000000</td>\n",
       "      <td>186.000000</td>\n",
       "      <td>186.000000</td>\n",
       "      <td>186.000000</td>\n",
       "      <td>186.000000</td>\n",
       "      <td>186.000000</td>\n",
       "      <td>186.000000</td>\n",
       "      <td>186.000000</td>\n",
       "      <td>186.000000</td>\n",
       "    </tr>\n",
       "    <tr>\n",
       "      <th>mean</th>\n",
       "      <td>5.667258</td>\n",
       "      <td>5.658763</td>\n",
       "      <td>5.648548</td>\n",
       "      <td>5.631774</td>\n",
       "      <td>5.621720</td>\n",
       "      <td>5.612204</td>\n",
       "      <td>5.584677</td>\n",
       "      <td>5.571828</td>\n",
       "      <td>5.541613</td>\n",
       "      <td>5.532957</td>\n",
       "      <td>...</td>\n",
       "      <td>2.942366</td>\n",
       "      <td>2.913978</td>\n",
       "      <td>2.883817</td>\n",
       "      <td>2.851452</td>\n",
       "      <td>2.818548</td>\n",
       "      <td>2.785215</td>\n",
       "      <td>2.753172</td>\n",
       "      <td>2.721935</td>\n",
       "      <td>2.691828</td>\n",
       "      <td>2.662742</td>\n",
       "    </tr>\n",
       "    <tr>\n",
       "      <th>std</th>\n",
       "      <td>1.273883</td>\n",
       "      <td>1.298727</td>\n",
       "      <td>1.315861</td>\n",
       "      <td>1.344712</td>\n",
       "      <td>1.362273</td>\n",
       "      <td>1.378751</td>\n",
       "      <td>1.414588</td>\n",
       "      <td>1.426415</td>\n",
       "      <td>1.456703</td>\n",
       "      <td>1.462323</td>\n",
       "      <td>...</td>\n",
       "      <td>1.494109</td>\n",
       "      <td>1.462148</td>\n",
       "      <td>1.432846</td>\n",
       "      <td>1.403559</td>\n",
       "      <td>1.374949</td>\n",
       "      <td>1.346064</td>\n",
       "      <td>1.316921</td>\n",
       "      <td>1.287927</td>\n",
       "      <td>1.259074</td>\n",
       "      <td>1.231229</td>\n",
       "    </tr>\n",
       "    <tr>\n",
       "      <th>min</th>\n",
       "      <td>2.370000</td>\n",
       "      <td>2.400000</td>\n",
       "      <td>2.380000</td>\n",
       "      <td>2.280000</td>\n",
       "      <td>2.200000</td>\n",
       "      <td>2.100000</td>\n",
       "      <td>1.980000</td>\n",
       "      <td>1.990000</td>\n",
       "      <td>1.920000</td>\n",
       "      <td>1.880000</td>\n",
       "      <td>...</td>\n",
       "      <td>1.070000</td>\n",
       "      <td>1.180000</td>\n",
       "      <td>1.070000</td>\n",
       "      <td>1.150000</td>\n",
       "      <td>1.170000</td>\n",
       "      <td>1.190000</td>\n",
       "      <td>1.210000</td>\n",
       "      <td>1.220000</td>\n",
       "      <td>1.230000</td>\n",
       "      <td>1.230000</td>\n",
       "    </tr>\n",
       "    <tr>\n",
       "      <th>25%</th>\n",
       "      <td>5.130000</td>\n",
       "      <td>5.130000</td>\n",
       "      <td>5.117500</td>\n",
       "      <td>5.040000</td>\n",
       "      <td>4.972500</td>\n",
       "      <td>4.897500</td>\n",
       "      <td>4.825000</td>\n",
       "      <td>4.745000</td>\n",
       "      <td>4.695000</td>\n",
       "      <td>4.667500</td>\n",
       "      <td>...</td>\n",
       "      <td>1.790000</td>\n",
       "      <td>1.782500</td>\n",
       "      <td>1.790000</td>\n",
       "      <td>1.780000</td>\n",
       "      <td>1.770000</td>\n",
       "      <td>1.750000</td>\n",
       "      <td>1.750000</td>\n",
       "      <td>1.750000</td>\n",
       "      <td>1.740000</td>\n",
       "      <td>1.732500</td>\n",
       "    </tr>\n",
       "    <tr>\n",
       "      <th>50%</th>\n",
       "      <td>6.045000</td>\n",
       "      <td>6.045000</td>\n",
       "      <td>6.040000</td>\n",
       "      <td>6.020000</td>\n",
       "      <td>6.030000</td>\n",
       "      <td>6.065000</td>\n",
       "      <td>6.085000</td>\n",
       "      <td>6.095000</td>\n",
       "      <td>6.040000</td>\n",
       "      <td>5.975000</td>\n",
       "      <td>...</td>\n",
       "      <td>2.430000</td>\n",
       "      <td>2.395000</td>\n",
       "      <td>2.370000</td>\n",
       "      <td>2.350000</td>\n",
       "      <td>2.320000</td>\n",
       "      <td>2.300000</td>\n",
       "      <td>2.280000</td>\n",
       "      <td>2.255000</td>\n",
       "      <td>2.235000</td>\n",
       "      <td>2.200000</td>\n",
       "    </tr>\n",
       "    <tr>\n",
       "      <th>75%</th>\n",
       "      <td>6.610000</td>\n",
       "      <td>6.627500</td>\n",
       "      <td>6.627500</td>\n",
       "      <td>6.637500</td>\n",
       "      <td>6.637500</td>\n",
       "      <td>6.640000</td>\n",
       "      <td>6.640000</td>\n",
       "      <td>6.637500</td>\n",
       "      <td>6.647500</td>\n",
       "      <td>6.650000</td>\n",
       "      <td>...</td>\n",
       "      <td>3.997500</td>\n",
       "      <td>3.967500</td>\n",
       "      <td>3.922500</td>\n",
       "      <td>3.865000</td>\n",
       "      <td>3.807500</td>\n",
       "      <td>3.735000</td>\n",
       "      <td>3.662500</td>\n",
       "      <td>3.600000</td>\n",
       "      <td>3.530000</td>\n",
       "      <td>3.487500</td>\n",
       "    </tr>\n",
       "    <tr>\n",
       "      <th>max</th>\n",
       "      <td>7.840000</td>\n",
       "      <td>7.830000</td>\n",
       "      <td>7.820000</td>\n",
       "      <td>7.810000</td>\n",
       "      <td>7.800000</td>\n",
       "      <td>7.650000</td>\n",
       "      <td>7.500000</td>\n",
       "      <td>7.400000</td>\n",
       "      <td>7.450000</td>\n",
       "      <td>7.510000</td>\n",
       "      <td>...</td>\n",
       "      <td>7.460000</td>\n",
       "      <td>7.420000</td>\n",
       "      <td>7.380000</td>\n",
       "      <td>7.340000</td>\n",
       "      <td>7.290000</td>\n",
       "      <td>7.240000</td>\n",
       "      <td>7.180000</td>\n",
       "      <td>7.130000</td>\n",
       "      <td>7.070000</td>\n",
       "      <td>7.000000</td>\n",
       "    </tr>\n",
       "  </tbody>\n",
       "</table>\n",
       "<p>8 rows × 100 columns</p>\n",
       "</div>"
      ],
      "text/plain": [
       "             1921        1922        1923        1924        1925        1926  \\\n",
       "count  186.000000  186.000000  186.000000  186.000000  186.000000  186.000000   \n",
       "mean     5.667258    5.658763    5.648548    5.631774    5.621720    5.612204   \n",
       "std      1.273883    1.298727    1.315861    1.344712    1.362273    1.378751   \n",
       "min      2.370000    2.400000    2.380000    2.280000    2.200000    2.100000   \n",
       "25%      5.130000    5.130000    5.117500    5.040000    4.972500    4.897500   \n",
       "50%      6.045000    6.045000    6.040000    6.020000    6.030000    6.065000   \n",
       "75%      6.610000    6.627500    6.627500    6.637500    6.637500    6.640000   \n",
       "max      7.840000    7.830000    7.820000    7.810000    7.800000    7.650000   \n",
       "\n",
       "             1927        1928        1929        1930  ...        2011  \\\n",
       "count  186.000000  186.000000  186.000000  186.000000  ...  186.000000   \n",
       "mean     5.584677    5.571828    5.541613    5.532957  ...    2.942366   \n",
       "std      1.414588    1.426415    1.456703    1.462323  ...    1.494109   \n",
       "min      1.980000    1.990000    1.920000    1.880000  ...    1.070000   \n",
       "25%      4.825000    4.745000    4.695000    4.667500  ...    1.790000   \n",
       "50%      6.085000    6.095000    6.040000    5.975000  ...    2.430000   \n",
       "75%      6.640000    6.637500    6.647500    6.650000  ...    3.997500   \n",
       "max      7.500000    7.400000    7.450000    7.510000  ...    7.460000   \n",
       "\n",
       "             2012        2013        2014        2015        2016        2017  \\\n",
       "count  186.000000  186.000000  186.000000  186.000000  186.000000  186.000000   \n",
       "mean     2.913978    2.883817    2.851452    2.818548    2.785215    2.753172   \n",
       "std      1.462148    1.432846    1.403559    1.374949    1.346064    1.316921   \n",
       "min      1.180000    1.070000    1.150000    1.170000    1.190000    1.210000   \n",
       "25%      1.782500    1.790000    1.780000    1.770000    1.750000    1.750000   \n",
       "50%      2.395000    2.370000    2.350000    2.320000    2.300000    2.280000   \n",
       "75%      3.967500    3.922500    3.865000    3.807500    3.735000    3.662500   \n",
       "max      7.420000    7.380000    7.340000    7.290000    7.240000    7.180000   \n",
       "\n",
       "             2018        2019        2020  \n",
       "count  186.000000  186.000000  186.000000  \n",
       "mean     2.721935    2.691828    2.662742  \n",
       "std      1.287927    1.259074    1.231229  \n",
       "min      1.220000    1.230000    1.230000  \n",
       "25%      1.750000    1.740000    1.732500  \n",
       "50%      2.255000    2.235000    2.200000  \n",
       "75%      3.600000    3.530000    3.487500  \n",
       "max      7.130000    7.070000    7.000000  \n",
       "\n",
       "[8 rows x 100 columns]"
      ]
     },
     "execution_count": 73,
     "metadata": {},
     "output_type": "execute_result"
    }
   ],
   "source": [
    "df_frt_1.describe()"
   ]
  },
  {
   "cell_type": "markdown",
   "id": "5866c79b",
   "metadata": {},
   "source": [
    "Now let's see the relationship between fertility rate and life expectancy."
   ]
  },
  {
   "cell_type": "code",
   "execution_count": 74,
   "id": "da679c1f",
   "metadata": {},
   "outputs": [],
   "source": [
    "df_le_1 = df_le_1.set_index(['country'])"
   ]
  },
  {
   "cell_type": "code",
   "execution_count": 75,
   "id": "048d69ec",
   "metadata": {},
   "outputs": [
    {
     "data": {
      "image/png": "[encoded data removed]",
      "text/plain": [
       "<Figure size 432x288 with 1 Axes>"
      ]
     },
     "metadata": {},
     "output_type": "display_data"
    }
   ],
   "source": [
    "fig_2 = plt.scatter(df_frt_1.mean(), df_le_1.mean());\n",
    "plt.xlabel('Fertility Rate')\n",
    "plt.ylabel('Life Expectancy')\n",
    "plt.title('Correlation Between Fertility and Longevity');"
   ]
  },
  {
   "cell_type": "code",
   "execution_count": 76,
   "id": "874b1527",
   "metadata": {},
   "outputs": [
    {
     "data": {
      "text/plain": [
       "array([[ 1.        , -0.82838701],\n",
       "       [-0.82838701,  1.        ]])"
      ]
     },
     "execution_count": 76,
     "metadata": {},
     "output_type": "execute_result"
    }
   ],
   "source": [
    "np.corrcoef(df_frt_1.mean(), df_le_1.mean())"
   ]
  },
  {
   "cell_type": "markdown",
   "id": "77522a31",
   "metadata": {},
   "source": [
    "It looks like there is a strong poistive correlation between firtility rates and life expectancy, which means that **populations with high fertility rates seem to live shorter than populations with low fertility rate.**"
   ]
  },
  {
   "cell_type": "markdown",
   "id": "8f9ee51a",
   "metadata": {},
   "source": [
    "### Does happier people live longer?"
   ]
  },
  {
   "cell_type": "markdown",
   "id": "58421a10",
   "metadata": {},
   "source": [
    "Now, let's see the trend of life expectancy over the past century."
   ]
  },
  {
   "cell_type": "code",
   "execution_count": 77,
   "id": "11043fad",
   "metadata": {},
   "outputs": [
    {
     "data": {
      "image/png": "[encoded data removed]",
      "text/plain": [
       "<Figure size 432x288 with 1 Axes>"
      ]
     },
     "metadata": {},
     "output_type": "display_data"
    }
   ],
   "source": [
    "fig_3 = sns.lineplot(data=df_le_1.mean());\n",
    "for ind, label in enumerate(fig_3.get_xticklabels()):\n",
    "    if ind % 10 == 0:  # every 10th label is kept\n",
    "        label.set_visible(True)\n",
    "    else:\n",
    "        label.set_visible(False)\n",
    "fig_3.set(xlabel='Year', ylabel='Life Expectancy')\n",
    "plt.title('Longevity Trend');"
   ]
  },
  {
   "cell_type": "markdown",
   "id": "17078a46",
   "metadata": {},
   "source": [
    "The graph indicates that life expectancy have doubled over the past century."
   ]
  },
  {
   "cell_type": "code",
   "execution_count": 78,
   "id": "09db073d",
   "metadata": {},
   "outputs": [
    {
     "data": {
      "text/html": [
       "<div>\n",
       "<style scoped>\n",
       "    .dataframe tbody tr th:only-of-type {\n",
       "        vertical-align: middle;\n",
       "    }\n",
       "\n",
       "    .dataframe tbody tr th {\n",
       "        vertical-align: top;\n",
       "    }\n",
       "\n",
       "    .dataframe thead th {\n",
       "        text-align: right;\n",
       "    }\n",
       "</style>\n",
       "<table border=\"1\" class=\"dataframe\">\n",
       "  <thead>\n",
       "    <tr style=\"text-align: right;\">\n",
       "      <th></th>\n",
       "      <th>2005</th>\n",
       "      <th>2006</th>\n",
       "      <th>2007</th>\n",
       "      <th>2008</th>\n",
       "      <th>2009</th>\n",
       "      <th>2010</th>\n",
       "      <th>2011</th>\n",
       "      <th>2012</th>\n",
       "      <th>2013</th>\n",
       "      <th>2014</th>\n",
       "      <th>2015</th>\n",
       "      <th>2016</th>\n",
       "      <th>2017</th>\n",
       "      <th>2018</th>\n",
       "      <th>2019</th>\n",
       "    </tr>\n",
       "  </thead>\n",
       "  <tbody>\n",
       "    <tr>\n",
       "      <th>count</th>\n",
       "      <td>137.000000</td>\n",
       "      <td>137.000000</td>\n",
       "      <td>137.000000</td>\n",
       "      <td>137.000000</td>\n",
       "      <td>137.000000</td>\n",
       "      <td>137.000000</td>\n",
       "      <td>137.000000</td>\n",
       "      <td>137.000000</td>\n",
       "      <td>137.00000</td>\n",
       "      <td>137.000000</td>\n",
       "      <td>137.000000</td>\n",
       "      <td>137.000000</td>\n",
       "      <td>137.000000</td>\n",
       "      <td>137.000000</td>\n",
       "      <td>137.000000</td>\n",
       "    </tr>\n",
       "    <tr>\n",
       "      <th>mean</th>\n",
       "      <td>69.662774</td>\n",
       "      <td>70.030657</td>\n",
       "      <td>70.435036</td>\n",
       "      <td>70.766423</td>\n",
       "      <td>71.189051</td>\n",
       "      <td>71.377372</td>\n",
       "      <td>71.945985</td>\n",
       "      <td>72.272993</td>\n",
       "      <td>72.60219</td>\n",
       "      <td>72.819708</td>\n",
       "      <td>73.060584</td>\n",
       "      <td>73.353285</td>\n",
       "      <td>73.609489</td>\n",
       "      <td>73.837226</td>\n",
       "      <td>74.054745</td>\n",
       "    </tr>\n",
       "    <tr>\n",
       "      <th>std</th>\n",
       "      <td>9.119461</td>\n",
       "      <td>8.929549</td>\n",
       "      <td>8.717710</td>\n",
       "      <td>8.528389</td>\n",
       "      <td>8.260027</td>\n",
       "      <td>8.712533</td>\n",
       "      <td>7.933622</td>\n",
       "      <td>7.754757</td>\n",
       "      <td>7.61289</td>\n",
       "      <td>7.561132</td>\n",
       "      <td>7.380562</td>\n",
       "      <td>7.216037</td>\n",
       "      <td>7.057390</td>\n",
       "      <td>6.872163</td>\n",
       "      <td>6.697069</td>\n",
       "    </tr>\n",
       "    <tr>\n",
       "      <th>min</th>\n",
       "      <td>46.800000</td>\n",
       "      <td>47.400000</td>\n",
       "      <td>48.200000</td>\n",
       "      <td>48.900000</td>\n",
       "      <td>50.200000</td>\n",
       "      <td>32.500000</td>\n",
       "      <td>53.600000</td>\n",
       "      <td>53.600000</td>\n",
       "      <td>54.00000</td>\n",
       "      <td>54.900000</td>\n",
       "      <td>55.800000</td>\n",
       "      <td>56.600000</td>\n",
       "      <td>57.300000</td>\n",
       "      <td>57.900000</td>\n",
       "      <td>58.400000</td>\n",
       "    </tr>\n",
       "    <tr>\n",
       "      <th>25%</th>\n",
       "      <td>63.200000</td>\n",
       "      <td>63.700000</td>\n",
       "      <td>64.400000</td>\n",
       "      <td>65.000000</td>\n",
       "      <td>65.400000</td>\n",
       "      <td>65.700000</td>\n",
       "      <td>66.000000</td>\n",
       "      <td>66.200000</td>\n",
       "      <td>66.80000</td>\n",
       "      <td>67.200000</td>\n",
       "      <td>67.700000</td>\n",
       "      <td>67.800000</td>\n",
       "      <td>68.000000</td>\n",
       "      <td>68.400000</td>\n",
       "      <td>68.800000</td>\n",
       "    </tr>\n",
       "    <tr>\n",
       "      <th>50%</th>\n",
       "      <td>72.500000</td>\n",
       "      <td>72.700000</td>\n",
       "      <td>72.900000</td>\n",
       "      <td>73.300000</td>\n",
       "      <td>73.400000</td>\n",
       "      <td>73.700000</td>\n",
       "      <td>73.900000</td>\n",
       "      <td>74.200000</td>\n",
       "      <td>74.30000</td>\n",
       "      <td>74.500000</td>\n",
       "      <td>74.700000</td>\n",
       "      <td>74.900000</td>\n",
       "      <td>75.100000</td>\n",
       "      <td>75.200000</td>\n",
       "      <td>75.000000</td>\n",
       "    </tr>\n",
       "    <tr>\n",
       "      <th>75%</th>\n",
       "      <td>77.200000</td>\n",
       "      <td>77.700000</td>\n",
       "      <td>78.200000</td>\n",
       "      <td>78.100000</td>\n",
       "      <td>78.000000</td>\n",
       "      <td>78.100000</td>\n",
       "      <td>78.700000</td>\n",
       "      <td>78.600000</td>\n",
       "      <td>78.70000</td>\n",
       "      <td>79.000000</td>\n",
       "      <td>79.300000</td>\n",
       "      <td>79.500000</td>\n",
       "      <td>79.600000</td>\n",
       "      <td>79.900000</td>\n",
       "      <td>80.000000</td>\n",
       "    </tr>\n",
       "    <tr>\n",
       "      <th>max</th>\n",
       "      <td>82.500000</td>\n",
       "      <td>82.800000</td>\n",
       "      <td>82.900000</td>\n",
       "      <td>83.100000</td>\n",
       "      <td>83.300000</td>\n",
       "      <td>83.300000</td>\n",
       "      <td>83.200000</td>\n",
       "      <td>83.600000</td>\n",
       "      <td>83.90000</td>\n",
       "      <td>84.100000</td>\n",
       "      <td>84.300000</td>\n",
       "      <td>84.500000</td>\n",
       "      <td>84.700000</td>\n",
       "      <td>84.800000</td>\n",
       "      <td>84.800000</td>\n",
       "    </tr>\n",
       "  </tbody>\n",
       "</table>\n",
       "</div>"
      ],
      "text/plain": [
       "             2005        2006        2007        2008        2009        2010  \\\n",
       "count  137.000000  137.000000  137.000000  137.000000  137.000000  137.000000   \n",
       "mean    69.662774   70.030657   70.435036   70.766423   71.189051   71.377372   \n",
       "std      9.119461    8.929549    8.717710    8.528389    8.260027    8.712533   \n",
       "min     46.800000   47.400000   48.200000   48.900000   50.200000   32.500000   \n",
       "25%     63.200000   63.700000   64.400000   65.000000   65.400000   65.700000   \n",
       "50%     72.500000   72.700000   72.900000   73.300000   73.400000   73.700000   \n",
       "75%     77.200000   77.700000   78.200000   78.100000   78.000000   78.100000   \n",
       "max     82.500000   82.800000   82.900000   83.100000   83.300000   83.300000   \n",
       "\n",
       "             2011        2012       2013        2014        2015        2016  \\\n",
       "count  137.000000  137.000000  137.00000  137.000000  137.000000  137.000000   \n",
       "mean    71.945985   72.272993   72.60219   72.819708   73.060584   73.353285   \n",
       "std      7.933622    7.754757    7.61289    7.561132    7.380562    7.216037   \n",
       "min     53.600000   53.600000   54.00000   54.900000   55.800000   56.600000   \n",
       "25%     66.000000   66.200000   66.80000   67.200000   67.700000   67.800000   \n",
       "50%     73.900000   74.200000   74.30000   74.500000   74.700000   74.900000   \n",
       "75%     78.700000   78.600000   78.70000   79.000000   79.300000   79.500000   \n",
       "max     83.200000   83.600000   83.90000   84.100000   84.300000   84.500000   \n",
       "\n",
       "             2017        2018        2019  \n",
       "count  137.000000  137.000000  137.000000  \n",
       "mean    73.609489   73.837226   74.054745  \n",
       "std      7.057390    6.872163    6.697069  \n",
       "min     57.300000   57.900000   58.400000  \n",
       "25%     68.000000   68.400000   68.800000  \n",
       "50%     75.100000   75.200000   75.000000  \n",
       "75%     79.600000   79.900000   80.000000  \n",
       "max     84.700000   84.800000   84.800000  "
      ]
     },
     "execution_count": 78,
     "metadata": {},
     "output_type": "execute_result"
    }
   ],
   "source": [
    "df_le_2.describe()"
   ]
  },
  {
   "cell_type": "markdown",
   "id": "5a9a3ed9",
   "metadata": {},
   "source": [
    "Now let's see the relationship between life expectancy and happiness score."
   ]
  },
  {
   "cell_type": "code",
   "execution_count": 79,
   "id": "c9a24ffd",
   "metadata": {},
   "outputs": [],
   "source": [
    "df_le_2 = df_le_2.set_index(['country'])"
   ]
  },
  {
   "cell_type": "code",
   "execution_count": 80,
   "id": "3ea54568",
   "metadata": {},
   "outputs": [],
   "source": [
    "df_hp_2 = df_hp_2.set_index(['country'])"
   ]
  },
  {
   "cell_type": "code",
   "execution_count": 81,
   "id": "b9ae561c",
   "metadata": {
    "scrolled": true
   },
   "outputs": [
    {
     "data": {
      "image/png": "[encoded data removed]",
      "text/plain": [
       "<Figure size 432x288 with 1 Axes>"
      ]
     },
     "metadata": {},
     "output_type": "display_data"
    }
   ],
   "source": [
    "fig_4 = plt.scatter(df_le_2.mean(), df_hp_2.mean());\n",
    "plt.xlabel('Life Expectancy')\n",
    "plt.ylabel('Happiness score')\n",
    "plt.title('Correlation Between Happiness Longevity');"
   ]
  },
  {
   "cell_type": "code",
   "execution_count": 82,
   "id": "df8a3c2a",
   "metadata": {},
   "outputs": [
    {
     "data": {
      "text/plain": [
       "array([[1.        , 0.49704649],\n",
       "       [0.49704649, 1.        ]])"
      ]
     },
     "execution_count": 82,
     "metadata": {},
     "output_type": "execute_result"
    }
   ],
   "source": [
    "np.corrcoef(df_le_2.mean(), df_hp_2.mean())"
   ]
  },
  {
   "cell_type": "markdown",
   "id": "c78233c4",
   "metadata": {},
   "source": [
    "It looks like **there is a weak positive correlation between life expectancy and happiness**, we should note that the highest happiness score occured with the highest life expectancy, however the data seem to be insufficient to conclude that no correlation exists."
   ]
  },
  {
   "cell_type": "markdown",
   "id": "a26c1956",
   "metadata": {},
   "source": [
    "### Is there any correlation between longevity and suicide?"
   ]
  },
  {
   "cell_type": "markdown",
   "id": "3745c033",
   "metadata": {},
   "source": [
    "Before we answer the question, let's first see the trend of suicide rates over the past 67 years."
   ]
  },
  {
   "cell_type": "code",
   "execution_count": 83,
   "id": "78cd11f7",
   "metadata": {},
   "outputs": [],
   "source": [
    "df_su_3 = df_su_3.set_index(['country'])"
   ]
  },
  {
   "cell_type": "code",
   "execution_count": 84,
   "id": "4cb5d034",
   "metadata": {
    "scrolled": true
   },
   "outputs": [
    {
     "data": {
      "image/png": "[encoded data removed]",
      "text/plain": [
       "<Figure size 432x288 with 1 Axes>"
      ]
     },
     "metadata": {},
     "output_type": "display_data"
    }
   ],
   "source": [
    "fig_5 = sns.lineplot(data=df_su_3.mean());\n",
    "for ind, label in enumerate(fig_5.get_xticklabels()):\n",
    "    if ind % 10 == 0:  # every 10th label is kept\n",
    "        label.set_visible(True)\n",
    "    else:\n",
    "        label.set_visible(False)\n",
    "fig_5.set(xlabel='Year', ylabel='Suicide Rates')\n",
    "plt.title('Suicide Trend');"
   ]
  },
  {
   "cell_type": "markdown",
   "id": "b2341eea",
   "metadata": {},
   "source": [
    "The trend seems to be fluctuating, and the rates were the highest in the 1980s and 1990s, but generally it has decreased in the 21st century."
   ]
  },
  {
   "cell_type": "code",
   "execution_count": 85,
   "id": "35538dcc",
   "metadata": {},
   "outputs": [
    {
     "data": {
      "text/html": [
       "<div>\n",
       "<style scoped>\n",
       "    .dataframe tbody tr th:only-of-type {\n",
       "        vertical-align: middle;\n",
       "    }\n",
       "\n",
       "    .dataframe tbody tr th {\n",
       "        vertical-align: top;\n",
       "    }\n",
       "\n",
       "    .dataframe thead th {\n",
       "        text-align: right;\n",
       "    }\n",
       "</style>\n",
       "<table border=\"1\" class=\"dataframe\">\n",
       "  <thead>\n",
       "    <tr style=\"text-align: right;\">\n",
       "      <th></th>\n",
       "      <th>1950</th>\n",
       "      <th>1951</th>\n",
       "      <th>1952</th>\n",
       "      <th>1953</th>\n",
       "      <th>1954</th>\n",
       "      <th>1955</th>\n",
       "      <th>1956</th>\n",
       "      <th>1957</th>\n",
       "      <th>1958</th>\n",
       "      <th>1959</th>\n",
       "      <th>...</th>\n",
       "      <th>2007</th>\n",
       "      <th>2008</th>\n",
       "      <th>2009</th>\n",
       "      <th>2010</th>\n",
       "      <th>2011</th>\n",
       "      <th>2012</th>\n",
       "      <th>2013</th>\n",
       "      <th>2014</th>\n",
       "      <th>2015</th>\n",
       "      <th>2016</th>\n",
       "    </tr>\n",
       "  </thead>\n",
       "  <tbody>\n",
       "    <tr>\n",
       "      <th>count</th>\n",
       "      <td>37.000000</td>\n",
       "      <td>37.000000</td>\n",
       "      <td>37.000000</td>\n",
       "      <td>37.000000</td>\n",
       "      <td>37.000000</td>\n",
       "      <td>37.000000</td>\n",
       "      <td>37.000000</td>\n",
       "      <td>37.000000</td>\n",
       "      <td>37.000000</td>\n",
       "      <td>37.000000</td>\n",
       "      <td>...</td>\n",
       "      <td>37.000000</td>\n",
       "      <td>37.000000</td>\n",
       "      <td>37.000000</td>\n",
       "      <td>37.000000</td>\n",
       "      <td>37.000000</td>\n",
       "      <td>37.000000</td>\n",
       "      <td>37.000000</td>\n",
       "      <td>37.000000</td>\n",
       "      <td>37.000000</td>\n",
       "      <td>37.000000</td>\n",
       "    </tr>\n",
       "    <tr>\n",
       "      <th>mean</th>\n",
       "      <td>11.889189</td>\n",
       "      <td>12.067568</td>\n",
       "      <td>11.924324</td>\n",
       "      <td>11.972973</td>\n",
       "      <td>12.045946</td>\n",
       "      <td>12.075676</td>\n",
       "      <td>12.278378</td>\n",
       "      <td>12.110811</td>\n",
       "      <td>12.051351</td>\n",
       "      <td>11.813514</td>\n",
       "      <td>...</td>\n",
       "      <td>10.310811</td>\n",
       "      <td>10.321622</td>\n",
       "      <td>10.662162</td>\n",
       "      <td>10.254054</td>\n",
       "      <td>10.005405</td>\n",
       "      <td>10.056757</td>\n",
       "      <td>9.948649</td>\n",
       "      <td>10.002703</td>\n",
       "      <td>10.205405</td>\n",
       "      <td>11.137838</td>\n",
       "    </tr>\n",
       "    <tr>\n",
       "      <th>std</th>\n",
       "      <td>7.192851</td>\n",
       "      <td>7.339053</td>\n",
       "      <td>7.225203</td>\n",
       "      <td>7.365522</td>\n",
       "      <td>7.502355</td>\n",
       "      <td>7.369170</td>\n",
       "      <td>7.237293</td>\n",
       "      <td>7.296338</td>\n",
       "      <td>7.338582</td>\n",
       "      <td>7.279009</td>\n",
       "      <td>...</td>\n",
       "      <td>5.014245</td>\n",
       "      <td>5.579284</td>\n",
       "      <td>5.471459</td>\n",
       "      <td>5.106183</td>\n",
       "      <td>4.973482</td>\n",
       "      <td>4.558054</td>\n",
       "      <td>5.006919</td>\n",
       "      <td>4.424834</td>\n",
       "      <td>4.708441</td>\n",
       "      <td>5.321620</td>\n",
       "    </tr>\n",
       "    <tr>\n",
       "      <th>min</th>\n",
       "      <td>2.600000</td>\n",
       "      <td>2.600000</td>\n",
       "      <td>2.100000</td>\n",
       "      <td>2.100000</td>\n",
       "      <td>2.000000</td>\n",
       "      <td>2.400000</td>\n",
       "      <td>2.600000</td>\n",
       "      <td>2.500000</td>\n",
       "      <td>2.700000</td>\n",
       "      <td>2.600000</td>\n",
       "      <td>...</td>\n",
       "      <td>2.400000</td>\n",
       "      <td>2.600000</td>\n",
       "      <td>2.700000</td>\n",
       "      <td>2.600000</td>\n",
       "      <td>3.200000</td>\n",
       "      <td>3.200000</td>\n",
       "      <td>3.200000</td>\n",
       "      <td>3.200000</td>\n",
       "      <td>3.200000</td>\n",
       "      <td>3.000000</td>\n",
       "    </tr>\n",
       "    <tr>\n",
       "      <th>25%</th>\n",
       "      <td>6.600000</td>\n",
       "      <td>6.600000</td>\n",
       "      <td>6.500000</td>\n",
       "      <td>6.700000</td>\n",
       "      <td>6.600000</td>\n",
       "      <td>6.400000</td>\n",
       "      <td>6.700000</td>\n",
       "      <td>6.400000</td>\n",
       "      <td>6.600000</td>\n",
       "      <td>7.000000</td>\n",
       "      <td>...</td>\n",
       "      <td>6.700000</td>\n",
       "      <td>6.600000</td>\n",
       "      <td>7.100000</td>\n",
       "      <td>6.700000</td>\n",
       "      <td>6.600000</td>\n",
       "      <td>6.800000</td>\n",
       "      <td>6.600000</td>\n",
       "      <td>6.700000</td>\n",
       "      <td>7.100000</td>\n",
       "      <td>7.100000</td>\n",
       "    </tr>\n",
       "    <tr>\n",
       "      <th>50%</th>\n",
       "      <td>11.200000</td>\n",
       "      <td>10.200000</td>\n",
       "      <td>10.500000</td>\n",
       "      <td>10.000000</td>\n",
       "      <td>10.700000</td>\n",
       "      <td>10.300000</td>\n",
       "      <td>10.800000</td>\n",
       "      <td>10.000000</td>\n",
       "      <td>10.800000</td>\n",
       "      <td>9.700000</td>\n",
       "      <td>...</td>\n",
       "      <td>9.900000</td>\n",
       "      <td>10.000000</td>\n",
       "      <td>10.300000</td>\n",
       "      <td>9.800000</td>\n",
       "      <td>8.900000</td>\n",
       "      <td>9.200000</td>\n",
       "      <td>9.900000</td>\n",
       "      <td>9.500000</td>\n",
       "      <td>10.000000</td>\n",
       "      <td>11.200000</td>\n",
       "    </tr>\n",
       "    <tr>\n",
       "      <th>75%</th>\n",
       "      <td>15.100000</td>\n",
       "      <td>15.100000</td>\n",
       "      <td>15.100000</td>\n",
       "      <td>16.100000</td>\n",
       "      <td>14.800000</td>\n",
       "      <td>16.100000</td>\n",
       "      <td>16.100000</td>\n",
       "      <td>16.100000</td>\n",
       "      <td>14.900000</td>\n",
       "      <td>15.900000</td>\n",
       "      <td>...</td>\n",
       "      <td>13.000000</td>\n",
       "      <td>12.600000</td>\n",
       "      <td>11.400000</td>\n",
       "      <td>13.100000</td>\n",
       "      <td>11.600000</td>\n",
       "      <td>11.900000</td>\n",
       "      <td>11.700000</td>\n",
       "      <td>12.200000</td>\n",
       "      <td>11.900000</td>\n",
       "      <td>13.000000</td>\n",
       "    </tr>\n",
       "    <tr>\n",
       "      <th>max</th>\n",
       "      <td>32.700000</td>\n",
       "      <td>32.700000</td>\n",
       "      <td>32.700000</td>\n",
       "      <td>32.700000</td>\n",
       "      <td>32.700000</td>\n",
       "      <td>32.700000</td>\n",
       "      <td>32.700000</td>\n",
       "      <td>32.700000</td>\n",
       "      <td>32.700000</td>\n",
       "      <td>32.700000</td>\n",
       "      <td>...</td>\n",
       "      <td>27.400000</td>\n",
       "      <td>30.100000</td>\n",
       "      <td>30.400000</td>\n",
       "      <td>27.600000</td>\n",
       "      <td>28.000000</td>\n",
       "      <td>25.700000</td>\n",
       "      <td>30.900000</td>\n",
       "      <td>26.100000</td>\n",
       "      <td>25.200000</td>\n",
       "      <td>24.700000</td>\n",
       "    </tr>\n",
       "  </tbody>\n",
       "</table>\n",
       "<p>8 rows × 67 columns</p>\n",
       "</div>"
      ],
      "text/plain": [
       "            1950       1951       1952       1953       1954       1955  \\\n",
       "count  37.000000  37.000000  37.000000  37.000000  37.000000  37.000000   \n",
       "mean   11.889189  12.067568  11.924324  11.972973  12.045946  12.075676   \n",
       "std     7.192851   7.339053   7.225203   7.365522   7.502355   7.369170   \n",
       "min     2.600000   2.600000   2.100000   2.100000   2.000000   2.400000   \n",
       "25%     6.600000   6.600000   6.500000   6.700000   6.600000   6.400000   \n",
       "50%    11.200000  10.200000  10.500000  10.000000  10.700000  10.300000   \n",
       "75%    15.100000  15.100000  15.100000  16.100000  14.800000  16.100000   \n",
       "max    32.700000  32.700000  32.700000  32.700000  32.700000  32.700000   \n",
       "\n",
       "            1956       1957       1958       1959  ...       2007       2008  \\\n",
       "count  37.000000  37.000000  37.000000  37.000000  ...  37.000000  37.000000   \n",
       "mean   12.278378  12.110811  12.051351  11.813514  ...  10.310811  10.321622   \n",
       "std     7.237293   7.296338   7.338582   7.279009  ...   5.014245   5.579284   \n",
       "min     2.600000   2.500000   2.700000   2.600000  ...   2.400000   2.600000   \n",
       "25%     6.700000   6.400000   6.600000   7.000000  ...   6.700000   6.600000   \n",
       "50%    10.800000  10.000000  10.800000   9.700000  ...   9.900000  10.000000   \n",
       "75%    16.100000  16.100000  14.900000  15.900000  ...  13.000000  12.600000   \n",
       "max    32.700000  32.700000  32.700000  32.700000  ...  27.400000  30.100000   \n",
       "\n",
       "            2009       2010       2011       2012       2013       2014  \\\n",
       "count  37.000000  37.000000  37.000000  37.000000  37.000000  37.000000   \n",
       "mean   10.662162  10.254054  10.005405  10.056757   9.948649  10.002703   \n",
       "std     5.471459   5.106183   4.973482   4.558054   5.006919   4.424834   \n",
       "min     2.700000   2.600000   3.200000   3.200000   3.200000   3.200000   \n",
       "25%     7.100000   6.700000   6.600000   6.800000   6.600000   6.700000   \n",
       "50%    10.300000   9.800000   8.900000   9.200000   9.900000   9.500000   \n",
       "75%    11.400000  13.100000  11.600000  11.900000  11.700000  12.200000   \n",
       "max    30.400000  27.600000  28.000000  25.700000  30.900000  26.100000   \n",
       "\n",
       "            2015       2016  \n",
       "count  37.000000  37.000000  \n",
       "mean   10.205405  11.137838  \n",
       "std     4.708441   5.321620  \n",
       "min     3.200000   3.000000  \n",
       "25%     7.100000   7.100000  \n",
       "50%    10.000000  11.200000  \n",
       "75%    11.900000  13.000000  \n",
       "max    25.200000  24.700000  \n",
       "\n",
       "[8 rows x 67 columns]"
      ]
     },
     "execution_count": 85,
     "metadata": {},
     "output_type": "execute_result"
    }
   ],
   "source": [
    "df_su_3.describe()"
   ]
  },
  {
   "cell_type": "markdown",
   "id": "ced78564",
   "metadata": {},
   "source": [
    "Now let's see the correlation between life expectancy and suicide rates."
   ]
  },
  {
   "cell_type": "code",
   "execution_count": 86,
   "id": "8b0af305",
   "metadata": {},
   "outputs": [],
   "source": [
    "df_le_3 = df_le_3.set_index(['country'])"
   ]
  },
  {
   "cell_type": "code",
   "execution_count": 87,
   "id": "4dd5b627",
   "metadata": {
    "scrolled": false
   },
   "outputs": [
    {
     "data": {
      "image/png": "[encoded data removed]",
      "text/plain": [
       "<Figure size 432x288 with 1 Axes>"
      ]
     },
     "metadata": {},
     "output_type": "display_data"
    }
   ],
   "source": [
    "fig_6 = plt.scatter(df_le_3.mean(), df_su_3.mean());\n",
    "plt.xlabel('Life Expectancy')\n",
    "plt.ylabel('Suicide Rate')\n",
    "plt.title('Correlation Between Longevity and Suicide');"
   ]
  },
  {
   "cell_type": "code",
   "execution_count": 88,
   "id": "4683f848",
   "metadata": {},
   "outputs": [
    {
     "data": {
      "text/plain": [
       "array([[ 1.      , -0.306597],\n",
       "       [-0.306597,  1.      ]])"
      ]
     },
     "execution_count": 88,
     "metadata": {},
     "output_type": "execute_result"
    }
   ],
   "source": [
    "np.corrcoef(df_le_3.mean(), df_su_3.mean())"
   ]
  },
  {
   "cell_type": "markdown",
   "id": "587207ab",
   "metadata": {},
   "source": [
    "That's odd, the scatter plot looks similar to the trend of suicide rates. Suicide rate is the lowest in populations with 80 years of life expectancy.\n",
    "From that graph, it seems like **there is a weak negative correlation between suicide rates and life expectancy.**"
   ]
  },
  {
   "cell_type": "markdown",
   "id": "174563ab",
   "metadata": {},
   "source": [
    "### Is suicide rate affected by the circumstances of people's lifes?"
   ]
  },
  {
   "cell_type": "markdown",
   "id": "18b4f0fb",
   "metadata": {},
   "source": [
    "Now let's see the trend of happiness score for the data we have. "
   ]
  },
  {
   "cell_type": "code",
   "execution_count": 89,
   "id": "e6da0c4c",
   "metadata": {},
   "outputs": [],
   "source": [
    "df_hp_4 = df_hp_4.set_index(['country'])"
   ]
  },
  {
   "cell_type": "code",
   "execution_count": 90,
   "id": "675c513f",
   "metadata": {},
   "outputs": [
    {
     "data": {
      "image/png": "[encoded data removed]",
      "text/plain": [
       "<Figure size 432x288 with 1 Axes>"
      ]
     },
     "metadata": {},
     "output_type": "display_data"
    }
   ],
   "source": [
    "fig_7 = sns.lineplot(data=df_hp_4.mean());\n",
    "for ind, label in enumerate(fig_7.get_xticklabels()):\n",
    "    if ind % 2 == 0:  # every 2nd label is kept\n",
    "        label.set_visible(True)\n",
    "    else:\n",
    "        label.set_visible(False)\n",
    "fig_7.set(xlabel='Year', ylabel='Happiness Score');\n",
    "plt.title('Happiness Score Trend');"
   ]
  },
  {
   "cell_type": "code",
   "execution_count": 91,
   "id": "6c8c3dc7",
   "metadata": {},
   "outputs": [
    {
     "data": {
      "image/png": "[encoded data removed]",
      "text/plain": [
       "<Figure size 432x288 with 1 Axes>"
      ]
     },
     "metadata": {},
     "output_type": "display_data"
    }
   ],
   "source": [
    "sns.barplot(data=df_hp_4)\n",
    "plt.xlabel('Year')\n",
    "plt.ylabel('Suicide Rate')\n",
    "plt.title('Bar Plot of Happiness Score');"
   ]
  },
  {
   "cell_type": "markdown",
   "id": "4f55738c",
   "metadata": {},
   "source": [
    "It looks like the trend is stable, varying between 66 and 64. But generally the score is decreasing in the last 8 years."
   ]
  },
  {
   "cell_type": "code",
   "execution_count": 92,
   "id": "54ec9012",
   "metadata": {},
   "outputs": [
    {
     "data": {
      "text/html": [
       "<div>\n",
       "<style scoped>\n",
       "    .dataframe tbody tr th:only-of-type {\n",
       "        vertical-align: middle;\n",
       "    }\n",
       "\n",
       "    .dataframe tbody tr th {\n",
       "        vertical-align: top;\n",
       "    }\n",
       "\n",
       "    .dataframe thead th {\n",
       "        text-align: right;\n",
       "    }\n",
       "</style>\n",
       "<table border=\"1\" class=\"dataframe\">\n",
       "  <thead>\n",
       "    <tr style=\"text-align: right;\">\n",
       "      <th></th>\n",
       "      <th>2005</th>\n",
       "      <th>2006</th>\n",
       "      <th>2007</th>\n",
       "      <th>2008</th>\n",
       "      <th>2009</th>\n",
       "      <th>2010</th>\n",
       "      <th>2011</th>\n",
       "      <th>2012</th>\n",
       "      <th>2013</th>\n",
       "      <th>2014</th>\n",
       "      <th>2015</th>\n",
       "      <th>2016</th>\n",
       "    </tr>\n",
       "  </thead>\n",
       "  <tbody>\n",
       "    <tr>\n",
       "      <th>count</th>\n",
       "      <td>29.000000</td>\n",
       "      <td>29.000000</td>\n",
       "      <td>29.000000</td>\n",
       "      <td>29.000000</td>\n",
       "      <td>29.000000</td>\n",
       "      <td>29.000000</td>\n",
       "      <td>29.000000</td>\n",
       "      <td>29.000000</td>\n",
       "      <td>29.000000</td>\n",
       "      <td>29.000000</td>\n",
       "      <td>29.000000</td>\n",
       "      <td>29.000000</td>\n",
       "    </tr>\n",
       "    <tr>\n",
       "      <th>mean</th>\n",
       "      <td>66.031034</td>\n",
       "      <td>64.658621</td>\n",
       "      <td>65.172414</td>\n",
       "      <td>65.968966</td>\n",
       "      <td>64.334483</td>\n",
       "      <td>64.651724</td>\n",
       "      <td>64.824138</td>\n",
       "      <td>64.355172</td>\n",
       "      <td>64.296552</td>\n",
       "      <td>64.741379</td>\n",
       "      <td>64.917241</td>\n",
       "      <td>65.196552</td>\n",
       "    </tr>\n",
       "    <tr>\n",
       "      <th>std</th>\n",
       "      <td>9.518857</td>\n",
       "      <td>9.650371</td>\n",
       "      <td>10.334751</td>\n",
       "      <td>10.091726</td>\n",
       "      <td>9.774320</td>\n",
       "      <td>10.288503</td>\n",
       "      <td>10.243383</td>\n",
       "      <td>9.958686</td>\n",
       "      <td>10.251602</td>\n",
       "      <td>8.913854</td>\n",
       "      <td>8.084114</td>\n",
       "      <td>8.241640</td>\n",
       "    </tr>\n",
       "    <tr>\n",
       "      <th>min</th>\n",
       "      <td>42.500000</td>\n",
       "      <td>42.500000</td>\n",
       "      <td>38.400000</td>\n",
       "      <td>42.500000</td>\n",
       "      <td>42.500000</td>\n",
       "      <td>39.100000</td>\n",
       "      <td>38.800000</td>\n",
       "      <td>42.200000</td>\n",
       "      <td>39.900000</td>\n",
       "      <td>44.400000</td>\n",
       "      <td>48.700000</td>\n",
       "      <td>48.400000</td>\n",
       "    </tr>\n",
       "    <tr>\n",
       "      <th>25%</th>\n",
       "      <td>56.700000</td>\n",
       "      <td>58.300000</td>\n",
       "      <td>58.900000</td>\n",
       "      <td>57.200000</td>\n",
       "      <td>57.700000</td>\n",
       "      <td>57.700000</td>\n",
       "      <td>56.500000</td>\n",
       "      <td>58.400000</td>\n",
       "      <td>57.500000</td>\n",
       "      <td>59.200000</td>\n",
       "      <td>58.800000</td>\n",
       "      <td>59.400000</td>\n",
       "    </tr>\n",
       "    <tr>\n",
       "      <th>50%</th>\n",
       "      <td>69.800000</td>\n",
       "      <td>65.800000</td>\n",
       "      <td>68.300000</td>\n",
       "      <td>69.900000</td>\n",
       "      <td>63.300000</td>\n",
       "      <td>68.000000</td>\n",
       "      <td>68.700000</td>\n",
       "      <td>66.500000</td>\n",
       "      <td>66.700000</td>\n",
       "      <td>67.600000</td>\n",
       "      <td>66.100000</td>\n",
       "      <td>65.900000</td>\n",
       "    </tr>\n",
       "    <tr>\n",
       "      <th>75%</th>\n",
       "      <td>73.200000</td>\n",
       "      <td>73.100000</td>\n",
       "      <td>72.400000</td>\n",
       "      <td>73.800000</td>\n",
       "      <td>73.200000</td>\n",
       "      <td>73.600000</td>\n",
       "      <td>73.800000</td>\n",
       "      <td>72.500000</td>\n",
       "      <td>73.600000</td>\n",
       "      <td>72.900000</td>\n",
       "      <td>72.900000</td>\n",
       "      <td>72.300000</td>\n",
       "    </tr>\n",
       "    <tr>\n",
       "      <th>max</th>\n",
       "      <td>80.200000</td>\n",
       "      <td>77.000000</td>\n",
       "      <td>78.300000</td>\n",
       "      <td>79.700000</td>\n",
       "      <td>76.800000</td>\n",
       "      <td>77.700000</td>\n",
       "      <td>77.900000</td>\n",
       "      <td>77.800000</td>\n",
       "      <td>75.900000</td>\n",
       "      <td>75.100000</td>\n",
       "      <td>76.000000</td>\n",
       "      <td>76.600000</td>\n",
       "    </tr>\n",
       "  </tbody>\n",
       "</table>\n",
       "</div>"
      ],
      "text/plain": [
       "            2005       2006       2007       2008       2009       2010  \\\n",
       "count  29.000000  29.000000  29.000000  29.000000  29.000000  29.000000   \n",
       "mean   66.031034  64.658621  65.172414  65.968966  64.334483  64.651724   \n",
       "std     9.518857   9.650371  10.334751  10.091726   9.774320  10.288503   \n",
       "min    42.500000  42.500000  38.400000  42.500000  42.500000  39.100000   \n",
       "25%    56.700000  58.300000  58.900000  57.200000  57.700000  57.700000   \n",
       "50%    69.800000  65.800000  68.300000  69.900000  63.300000  68.000000   \n",
       "75%    73.200000  73.100000  72.400000  73.800000  73.200000  73.600000   \n",
       "max    80.200000  77.000000  78.300000  79.700000  76.800000  77.700000   \n",
       "\n",
       "            2011       2012       2013       2014       2015       2016  \n",
       "count  29.000000  29.000000  29.000000  29.000000  29.000000  29.000000  \n",
       "mean   64.824138  64.355172  64.296552  64.741379  64.917241  65.196552  \n",
       "std    10.243383   9.958686  10.251602   8.913854   8.084114   8.241640  \n",
       "min    38.800000  42.200000  39.900000  44.400000  48.700000  48.400000  \n",
       "25%    56.500000  58.400000  57.500000  59.200000  58.800000  59.400000  \n",
       "50%    68.700000  66.500000  66.700000  67.600000  66.100000  65.900000  \n",
       "75%    73.800000  72.500000  73.600000  72.900000  72.900000  72.300000  \n",
       "max    77.900000  77.800000  75.900000  75.100000  76.000000  76.600000  "
      ]
     },
     "execution_count": 92,
     "metadata": {},
     "output_type": "execute_result"
    }
   ],
   "source": [
    "df_hp_4.describe()"
   ]
  },
  {
   "cell_type": "markdown",
   "id": "17dbbb87",
   "metadata": {},
   "source": [
    "Now let's make a scatter plot between suicide rate and happiness score."
   ]
  },
  {
   "cell_type": "code",
   "execution_count": 93,
   "id": "de0ddfb9",
   "metadata": {},
   "outputs": [],
   "source": [
    "df_su_4 = df_su_4.set_index(['country'])"
   ]
  },
  {
   "cell_type": "code",
   "execution_count": 94,
   "id": "856c6ea0",
   "metadata": {},
   "outputs": [
    {
     "data": {
      "image/png": "[encoded data removed]",
      "text/plain": [
       "<Figure size 432x288 with 1 Axes>"
      ]
     },
     "metadata": {},
     "output_type": "display_data"
    }
   ],
   "source": [
    "fig_8 = plt.scatter(df_su_4.mean(), df_hp_4.mean());\n",
    "plt.xlabel('Suicide Rate')\n",
    "plt.ylabel('Happiness score')\n",
    "plt.title('Correlation Between Happiness and Suicide');"
   ]
  },
  {
   "cell_type": "code",
   "execution_count": 95,
   "id": "ac22e380",
   "metadata": {},
   "outputs": [
    {
     "data": {
      "text/plain": [
       "array([[1.        , 0.38856645],\n",
       "       [0.38856645, 1.        ]])"
      ]
     },
     "execution_count": 95,
     "metadata": {},
     "output_type": "execute_result"
    }
   ],
   "source": [
    "np.corrcoef(df_su_4.mean(), df_hp_4.mean())"
   ]
  },
  {
   "cell_type": "markdown",
   "id": "7083fbb2",
   "metadata": {},
   "source": [
    "Based on that graph, it seems that **a slight positive correlation exists between suicide rate and happiness score.**"
   ]
  },
  {
   "cell_type": "markdown",
   "id": "b110134e",
   "metadata": {},
   "source": [
    "<a id='conclusions'></a>\n",
    "## Conclusions\n",
    "\n",
    "We did an analysis on 4 different datasets, fertility rate, life expectancy, happiness score and suicide rate.\n",
    "Initially we had 4 questions we needed to answer using the dataset we have.\n",
    "Using single-variable (1d) and multiple-variable (2d) explorations, we investigated each dataset and tried to answer the questions.\n",
    "\n",
    "**Results**: Based on the analysis we concluded the following findings: \n",
    "1. Populations with high fertility rate seem to live shorter than populations with low fertility rate.\n",
    "2. There is a weak positive correlation between life expectancy and happiness.\n",
    "3. There is a weak negative correlation between suicide rates and life expectancy.\n",
    "4. A slight positive correlation correlation exists between suicide rate and happiness score.\n",
    "\n",
    "**limitations**: There are many limitations to our analysis which include:\n",
    "1. The happiness score dataset was collected over few years and not many countries.\n",
    "2. Calculations and plots were made using the mean of the data, which doesn't represent each country individually.\n",
    "3. The accuracy of the data was affected by filling missing values with the averages."
   ]
  }
 ],
 "metadata": {
  "kernelspec": {
   "display_name": "Python 3 (ipykernel)",
   "language": "python",
   "name": "python3"
  },
  "language_info": {
   "codemirror_mode": {
    "name": "ipython",
    "version": 3
   },
   "file_extension": ".py",
   "mimetype": "text/x-python",
   "name": "python",
   "nbconvert_exporter": "python",
   "pygments_lexer": "ipython3",
   "version": "3.9.12"
  }
 },
 "nbformat": 4,
 "nbformat_minor": 5
}
